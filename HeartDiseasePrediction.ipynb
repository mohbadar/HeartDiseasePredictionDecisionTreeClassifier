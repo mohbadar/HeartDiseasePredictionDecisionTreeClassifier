{
 "cells": [
  {
   "cell_type": "code",
   "execution_count": 1,
   "metadata": {
    "collapsed": true
   },
   "outputs": [],
   "source": [
    "import graphlab as gl"
   ]
  },
  {
   "cell_type": "code",
   "execution_count": 2,
   "metadata": {
    "collapsed": false
   },
   "outputs": [
    {
     "name": "stdout",
     "output_type": "stream",
     "text": [
      "This non-commercial license of GraphLab Create for academic use is assigned to mohammadbadarhashimi@gmail.com and will expire on April 22, 2018.\n"
     ]
    },
    {
     "name": "stderr",
     "output_type": "stream",
     "text": [
      "[INFO] graphlab.cython.cy_server: GraphLab Create v2.1 started. Logging: C:\\Users\\MOH~1.BAD\\AppData\\Local\\Temp\\graphlab_server_1511174182.log.0\n"
     ]
    },
    {
     "data": {
      "text/html": [
       "<pre>Finished parsing file C:\\Users\\Moh.BadarHashimi\\Desktop\\ML project\\heart disease prediction\\resources\\heart_dis_training_data.csv</pre>"
      ],
      "text/plain": [
       "Finished parsing file C:\\Users\\Moh.BadarHashimi\\Desktop\\ML project\\heart disease prediction\\resources\\heart_dis_training_data.csv"
      ]
     },
     "metadata": {},
     "output_type": "display_data"
    },
    {
     "data": {
      "text/html": [
       "<pre>Parsing completed. Parsed 100 lines in 0.078019 secs.</pre>"
      ],
      "text/plain": [
       "Parsing completed. Parsed 100 lines in 0.078019 secs."
      ]
     },
     "metadata": {},
     "output_type": "display_data"
    },
    {
     "name": "stdout",
     "output_type": "stream",
     "text": [
      "------------------------------------------------------\n",
      "Inferred types from first 100 line(s) of file as \n",
      "column_type_hints=[float,float,float,float,float,float,float,float,float,float,float,float,str,long]\n",
      "If parsing fails due to incorrect types, you can correct\n",
      "the inferred type list above and pass it to read_csv in\n",
      "the column_type_hints argument\n",
      "------------------------------------------------------\n"
     ]
    },
    {
     "data": {
      "text/html": [
       "<pre>Unable to parse line \"43.0,1.0,4.0,132.0,247.0,1.0,2.0,143.0,1.0,0.1,2.0,?,7.0,1\"</pre>"
      ],
      "text/plain": [
       "Unable to parse line \"43.0,1.0,4.0,132.0,247.0,1.0,2.0,143.0,1.0,0.1,2.0,?,7.0,1\""
      ]
     },
     "metadata": {},
     "output_type": "display_data"
    },
    {
     "data": {
      "text/html": [
       "<pre>Unable to parse line \"52.0,1.0,3.0,138.0,223.0,0.0,0.0,169.0,0.0,0.0,1.0,?,3.0,0\"</pre>"
      ],
      "text/plain": [
       "Unable to parse line \"52.0,1.0,3.0,138.0,223.0,0.0,0.0,169.0,0.0,0.0,1.0,?,3.0,0\""
      ]
     },
     "metadata": {},
     "output_type": "display_data"
    },
    {
     "data": {
      "text/html": [
       "<pre>2 lines failed to parse correctly</pre>"
      ],
      "text/plain": [
       "2 lines failed to parse correctly"
      ]
     },
     "metadata": {},
     "output_type": "display_data"
    },
    {
     "data": {
      "text/html": [
       "<pre>Finished parsing file C:\\Users\\Moh.BadarHashimi\\Desktop\\ML project\\heart disease prediction\\resources\\heart_dis_training_data.csv</pre>"
      ],
      "text/plain": [
       "Finished parsing file C:\\Users\\Moh.BadarHashimi\\Desktop\\ML project\\heart disease prediction\\resources\\heart_dis_training_data.csv"
      ]
     },
     "metadata": {},
     "output_type": "display_data"
    },
    {
     "data": {
      "text/html": [
       "<pre>Parsing completed. Parsed 282 lines in 0.046971 secs.</pre>"
      ],
      "text/plain": [
       "Parsing completed. Parsed 282 lines in 0.046971 secs."
      ]
     },
     "metadata": {},
     "output_type": "display_data"
    }
   ],
   "source": [
    "trainingData = gl.SFrame('resources/heart_dis_training_data.csv')"
   ]
  },
  {
   "cell_type": "code",
   "execution_count": 3,
   "metadata": {
    "collapsed": false
   },
   "outputs": [
    {
     "data": {
      "text/html": [
       "<div style=\"max-height:1000px;max-width:1500px;overflow:auto;\"><table frame=\"box\" rules=\"cols\">\n",
       "    <tr>\n",
       "        <th style=\"padding-left: 1em; padding-right: 1em; text-align: center\">age</th>\n",
       "        <th style=\"padding-left: 1em; padding-right: 1em; text-align: center\">sex</th>\n",
       "        <th style=\"padding-left: 1em; padding-right: 1em; text-align: center\">cp</th>\n",
       "        <th style=\"padding-left: 1em; padding-right: 1em; text-align: center\">trestpbs</th>\n",
       "        <th style=\"padding-left: 1em; padding-right: 1em; text-align: center\">chol</th>\n",
       "        <th style=\"padding-left: 1em; padding-right: 1em; text-align: center\">fbs</th>\n",
       "        <th style=\"padding-left: 1em; padding-right: 1em; text-align: center\">restecg</th>\n",
       "        <th style=\"padding-left: 1em; padding-right: 1em; text-align: center\">thalach</th>\n",
       "        <th style=\"padding-left: 1em; padding-right: 1em; text-align: center\">exang</th>\n",
       "        <th style=\"padding-left: 1em; padding-right: 1em; text-align: center\">oldpeak</th>\n",
       "        <th style=\"padding-left: 1em; padding-right: 1em; text-align: center\">slope</th>\n",
       "        <th style=\"padding-left: 1em; padding-right: 1em; text-align: center\">ca</th>\n",
       "        <th style=\"padding-left: 1em; padding-right: 1em; text-align: center\">thal</th>\n",
       "        <th style=\"padding-left: 1em; padding-right: 1em; text-align: center\">num</th>\n",
       "    </tr>\n",
       "    <tr>\n",
       "        <td style=\"padding-left: 1em; padding-right: 1em; text-align: center; vertical-align: top\">63.0</td>\n",
       "        <td style=\"padding-left: 1em; padding-right: 1em; text-align: center; vertical-align: top\">1.0</td>\n",
       "        <td style=\"padding-left: 1em; padding-right: 1em; text-align: center; vertical-align: top\">1.0</td>\n",
       "        <td style=\"padding-left: 1em; padding-right: 1em; text-align: center; vertical-align: top\">145.0</td>\n",
       "        <td style=\"padding-left: 1em; padding-right: 1em; text-align: center; vertical-align: top\">233.0</td>\n",
       "        <td style=\"padding-left: 1em; padding-right: 1em; text-align: center; vertical-align: top\">1.0</td>\n",
       "        <td style=\"padding-left: 1em; padding-right: 1em; text-align: center; vertical-align: top\">2.0</td>\n",
       "        <td style=\"padding-left: 1em; padding-right: 1em; text-align: center; vertical-align: top\">150.0</td>\n",
       "        <td style=\"padding-left: 1em; padding-right: 1em; text-align: center; vertical-align: top\">0.0</td>\n",
       "        <td style=\"padding-left: 1em; padding-right: 1em; text-align: center; vertical-align: top\">2.3</td>\n",
       "        <td style=\"padding-left: 1em; padding-right: 1em; text-align: center; vertical-align: top\">3.0</td>\n",
       "        <td style=\"padding-left: 1em; padding-right: 1em; text-align: center; vertical-align: top\">0.0</td>\n",
       "        <td style=\"padding-left: 1em; padding-right: 1em; text-align: center; vertical-align: top\">6.0</td>\n",
       "        <td style=\"padding-left: 1em; padding-right: 1em; text-align: center; vertical-align: top\">0</td>\n",
       "    </tr>\n",
       "    <tr>\n",
       "        <td style=\"padding-left: 1em; padding-right: 1em; text-align: center; vertical-align: top\">67.0</td>\n",
       "        <td style=\"padding-left: 1em; padding-right: 1em; text-align: center; vertical-align: top\">1.0</td>\n",
       "        <td style=\"padding-left: 1em; padding-right: 1em; text-align: center; vertical-align: top\">4.0</td>\n",
       "        <td style=\"padding-left: 1em; padding-right: 1em; text-align: center; vertical-align: top\">160.0</td>\n",
       "        <td style=\"padding-left: 1em; padding-right: 1em; text-align: center; vertical-align: top\">286.0</td>\n",
       "        <td style=\"padding-left: 1em; padding-right: 1em; text-align: center; vertical-align: top\">0.0</td>\n",
       "        <td style=\"padding-left: 1em; padding-right: 1em; text-align: center; vertical-align: top\">2.0</td>\n",
       "        <td style=\"padding-left: 1em; padding-right: 1em; text-align: center; vertical-align: top\">108.0</td>\n",
       "        <td style=\"padding-left: 1em; padding-right: 1em; text-align: center; vertical-align: top\">1.0</td>\n",
       "        <td style=\"padding-left: 1em; padding-right: 1em; text-align: center; vertical-align: top\">1.5</td>\n",
       "        <td style=\"padding-left: 1em; padding-right: 1em; text-align: center; vertical-align: top\">2.0</td>\n",
       "        <td style=\"padding-left: 1em; padding-right: 1em; text-align: center; vertical-align: top\">3.0</td>\n",
       "        <td style=\"padding-left: 1em; padding-right: 1em; text-align: center; vertical-align: top\">3.0</td>\n",
       "        <td style=\"padding-left: 1em; padding-right: 1em; text-align: center; vertical-align: top\">2</td>\n",
       "    </tr>\n",
       "    <tr>\n",
       "        <td style=\"padding-left: 1em; padding-right: 1em; text-align: center; vertical-align: top\">67.0</td>\n",
       "        <td style=\"padding-left: 1em; padding-right: 1em; text-align: center; vertical-align: top\">1.0</td>\n",
       "        <td style=\"padding-left: 1em; padding-right: 1em; text-align: center; vertical-align: top\">4.0</td>\n",
       "        <td style=\"padding-left: 1em; padding-right: 1em; text-align: center; vertical-align: top\">120.0</td>\n",
       "        <td style=\"padding-left: 1em; padding-right: 1em; text-align: center; vertical-align: top\">229.0</td>\n",
       "        <td style=\"padding-left: 1em; padding-right: 1em; text-align: center; vertical-align: top\">0.0</td>\n",
       "        <td style=\"padding-left: 1em; padding-right: 1em; text-align: center; vertical-align: top\">2.0</td>\n",
       "        <td style=\"padding-left: 1em; padding-right: 1em; text-align: center; vertical-align: top\">129.0</td>\n",
       "        <td style=\"padding-left: 1em; padding-right: 1em; text-align: center; vertical-align: top\">1.0</td>\n",
       "        <td style=\"padding-left: 1em; padding-right: 1em; text-align: center; vertical-align: top\">2.6</td>\n",
       "        <td style=\"padding-left: 1em; padding-right: 1em; text-align: center; vertical-align: top\">2.0</td>\n",
       "        <td style=\"padding-left: 1em; padding-right: 1em; text-align: center; vertical-align: top\">2.0</td>\n",
       "        <td style=\"padding-left: 1em; padding-right: 1em; text-align: center; vertical-align: top\">7.0</td>\n",
       "        <td style=\"padding-left: 1em; padding-right: 1em; text-align: center; vertical-align: top\">1</td>\n",
       "    </tr>\n",
       "    <tr>\n",
       "        <td style=\"padding-left: 1em; padding-right: 1em; text-align: center; vertical-align: top\">37.0</td>\n",
       "        <td style=\"padding-left: 1em; padding-right: 1em; text-align: center; vertical-align: top\">1.0</td>\n",
       "        <td style=\"padding-left: 1em; padding-right: 1em; text-align: center; vertical-align: top\">3.0</td>\n",
       "        <td style=\"padding-left: 1em; padding-right: 1em; text-align: center; vertical-align: top\">130.0</td>\n",
       "        <td style=\"padding-left: 1em; padding-right: 1em; text-align: center; vertical-align: top\">250.0</td>\n",
       "        <td style=\"padding-left: 1em; padding-right: 1em; text-align: center; vertical-align: top\">0.0</td>\n",
       "        <td style=\"padding-left: 1em; padding-right: 1em; text-align: center; vertical-align: top\">0.0</td>\n",
       "        <td style=\"padding-left: 1em; padding-right: 1em; text-align: center; vertical-align: top\">187.0</td>\n",
       "        <td style=\"padding-left: 1em; padding-right: 1em; text-align: center; vertical-align: top\">0.0</td>\n",
       "        <td style=\"padding-left: 1em; padding-right: 1em; text-align: center; vertical-align: top\">3.5</td>\n",
       "        <td style=\"padding-left: 1em; padding-right: 1em; text-align: center; vertical-align: top\">3.0</td>\n",
       "        <td style=\"padding-left: 1em; padding-right: 1em; text-align: center; vertical-align: top\">0.0</td>\n",
       "        <td style=\"padding-left: 1em; padding-right: 1em; text-align: center; vertical-align: top\">3.0</td>\n",
       "        <td style=\"padding-left: 1em; padding-right: 1em; text-align: center; vertical-align: top\">0</td>\n",
       "    </tr>\n",
       "    <tr>\n",
       "        <td style=\"padding-left: 1em; padding-right: 1em; text-align: center; vertical-align: top\">41.0</td>\n",
       "        <td style=\"padding-left: 1em; padding-right: 1em; text-align: center; vertical-align: top\">0.0</td>\n",
       "        <td style=\"padding-left: 1em; padding-right: 1em; text-align: center; vertical-align: top\">2.0</td>\n",
       "        <td style=\"padding-left: 1em; padding-right: 1em; text-align: center; vertical-align: top\">130.0</td>\n",
       "        <td style=\"padding-left: 1em; padding-right: 1em; text-align: center; vertical-align: top\">204.0</td>\n",
       "        <td style=\"padding-left: 1em; padding-right: 1em; text-align: center; vertical-align: top\">0.0</td>\n",
       "        <td style=\"padding-left: 1em; padding-right: 1em; text-align: center; vertical-align: top\">2.0</td>\n",
       "        <td style=\"padding-left: 1em; padding-right: 1em; text-align: center; vertical-align: top\">172.0</td>\n",
       "        <td style=\"padding-left: 1em; padding-right: 1em; text-align: center; vertical-align: top\">0.0</td>\n",
       "        <td style=\"padding-left: 1em; padding-right: 1em; text-align: center; vertical-align: top\">1.4</td>\n",
       "        <td style=\"padding-left: 1em; padding-right: 1em; text-align: center; vertical-align: top\">1.0</td>\n",
       "        <td style=\"padding-left: 1em; padding-right: 1em; text-align: center; vertical-align: top\">0.0</td>\n",
       "        <td style=\"padding-left: 1em; padding-right: 1em; text-align: center; vertical-align: top\">3.0</td>\n",
       "        <td style=\"padding-left: 1em; padding-right: 1em; text-align: center; vertical-align: top\">0</td>\n",
       "    </tr>\n",
       "    <tr>\n",
       "        <td style=\"padding-left: 1em; padding-right: 1em; text-align: center; vertical-align: top\">56.0</td>\n",
       "        <td style=\"padding-left: 1em; padding-right: 1em; text-align: center; vertical-align: top\">1.0</td>\n",
       "        <td style=\"padding-left: 1em; padding-right: 1em; text-align: center; vertical-align: top\">2.0</td>\n",
       "        <td style=\"padding-left: 1em; padding-right: 1em; text-align: center; vertical-align: top\">120.0</td>\n",
       "        <td style=\"padding-left: 1em; padding-right: 1em; text-align: center; vertical-align: top\">236.0</td>\n",
       "        <td style=\"padding-left: 1em; padding-right: 1em; text-align: center; vertical-align: top\">0.0</td>\n",
       "        <td style=\"padding-left: 1em; padding-right: 1em; text-align: center; vertical-align: top\">0.0</td>\n",
       "        <td style=\"padding-left: 1em; padding-right: 1em; text-align: center; vertical-align: top\">178.0</td>\n",
       "        <td style=\"padding-left: 1em; padding-right: 1em; text-align: center; vertical-align: top\">0.0</td>\n",
       "        <td style=\"padding-left: 1em; padding-right: 1em; text-align: center; vertical-align: top\">0.8</td>\n",
       "        <td style=\"padding-left: 1em; padding-right: 1em; text-align: center; vertical-align: top\">1.0</td>\n",
       "        <td style=\"padding-left: 1em; padding-right: 1em; text-align: center; vertical-align: top\">0.0</td>\n",
       "        <td style=\"padding-left: 1em; padding-right: 1em; text-align: center; vertical-align: top\">3.0</td>\n",
       "        <td style=\"padding-left: 1em; padding-right: 1em; text-align: center; vertical-align: top\">0</td>\n",
       "    </tr>\n",
       "    <tr>\n",
       "        <td style=\"padding-left: 1em; padding-right: 1em; text-align: center; vertical-align: top\">62.0</td>\n",
       "        <td style=\"padding-left: 1em; padding-right: 1em; text-align: center; vertical-align: top\">0.0</td>\n",
       "        <td style=\"padding-left: 1em; padding-right: 1em; text-align: center; vertical-align: top\">4.0</td>\n",
       "        <td style=\"padding-left: 1em; padding-right: 1em; text-align: center; vertical-align: top\">140.0</td>\n",
       "        <td style=\"padding-left: 1em; padding-right: 1em; text-align: center; vertical-align: top\">268.0</td>\n",
       "        <td style=\"padding-left: 1em; padding-right: 1em; text-align: center; vertical-align: top\">0.0</td>\n",
       "        <td style=\"padding-left: 1em; padding-right: 1em; text-align: center; vertical-align: top\">2.0</td>\n",
       "        <td style=\"padding-left: 1em; padding-right: 1em; text-align: center; vertical-align: top\">160.0</td>\n",
       "        <td style=\"padding-left: 1em; padding-right: 1em; text-align: center; vertical-align: top\">0.0</td>\n",
       "        <td style=\"padding-left: 1em; padding-right: 1em; text-align: center; vertical-align: top\">3.6</td>\n",
       "        <td style=\"padding-left: 1em; padding-right: 1em; text-align: center; vertical-align: top\">3.0</td>\n",
       "        <td style=\"padding-left: 1em; padding-right: 1em; text-align: center; vertical-align: top\">2.0</td>\n",
       "        <td style=\"padding-left: 1em; padding-right: 1em; text-align: center; vertical-align: top\">3.0</td>\n",
       "        <td style=\"padding-left: 1em; padding-right: 1em; text-align: center; vertical-align: top\">3</td>\n",
       "    </tr>\n",
       "    <tr>\n",
       "        <td style=\"padding-left: 1em; padding-right: 1em; text-align: center; vertical-align: top\">57.0</td>\n",
       "        <td style=\"padding-left: 1em; padding-right: 1em; text-align: center; vertical-align: top\">0.0</td>\n",
       "        <td style=\"padding-left: 1em; padding-right: 1em; text-align: center; vertical-align: top\">4.0</td>\n",
       "        <td style=\"padding-left: 1em; padding-right: 1em; text-align: center; vertical-align: top\">120.0</td>\n",
       "        <td style=\"padding-left: 1em; padding-right: 1em; text-align: center; vertical-align: top\">354.0</td>\n",
       "        <td style=\"padding-left: 1em; padding-right: 1em; text-align: center; vertical-align: top\">0.0</td>\n",
       "        <td style=\"padding-left: 1em; padding-right: 1em; text-align: center; vertical-align: top\">0.0</td>\n",
       "        <td style=\"padding-left: 1em; padding-right: 1em; text-align: center; vertical-align: top\">163.0</td>\n",
       "        <td style=\"padding-left: 1em; padding-right: 1em; text-align: center; vertical-align: top\">1.0</td>\n",
       "        <td style=\"padding-left: 1em; padding-right: 1em; text-align: center; vertical-align: top\">0.6</td>\n",
       "        <td style=\"padding-left: 1em; padding-right: 1em; text-align: center; vertical-align: top\">1.0</td>\n",
       "        <td style=\"padding-left: 1em; padding-right: 1em; text-align: center; vertical-align: top\">0.0</td>\n",
       "        <td style=\"padding-left: 1em; padding-right: 1em; text-align: center; vertical-align: top\">3.0</td>\n",
       "        <td style=\"padding-left: 1em; padding-right: 1em; text-align: center; vertical-align: top\">0</td>\n",
       "    </tr>\n",
       "    <tr>\n",
       "        <td style=\"padding-left: 1em; padding-right: 1em; text-align: center; vertical-align: top\">63.0</td>\n",
       "        <td style=\"padding-left: 1em; padding-right: 1em; text-align: center; vertical-align: top\">1.0</td>\n",
       "        <td style=\"padding-left: 1em; padding-right: 1em; text-align: center; vertical-align: top\">4.0</td>\n",
       "        <td style=\"padding-left: 1em; padding-right: 1em; text-align: center; vertical-align: top\">130.0</td>\n",
       "        <td style=\"padding-left: 1em; padding-right: 1em; text-align: center; vertical-align: top\">254.0</td>\n",
       "        <td style=\"padding-left: 1em; padding-right: 1em; text-align: center; vertical-align: top\">0.0</td>\n",
       "        <td style=\"padding-left: 1em; padding-right: 1em; text-align: center; vertical-align: top\">2.0</td>\n",
       "        <td style=\"padding-left: 1em; padding-right: 1em; text-align: center; vertical-align: top\">147.0</td>\n",
       "        <td style=\"padding-left: 1em; padding-right: 1em; text-align: center; vertical-align: top\">0.0</td>\n",
       "        <td style=\"padding-left: 1em; padding-right: 1em; text-align: center; vertical-align: top\">1.4</td>\n",
       "        <td style=\"padding-left: 1em; padding-right: 1em; text-align: center; vertical-align: top\">2.0</td>\n",
       "        <td style=\"padding-left: 1em; padding-right: 1em; text-align: center; vertical-align: top\">1.0</td>\n",
       "        <td style=\"padding-left: 1em; padding-right: 1em; text-align: center; vertical-align: top\">7.0</td>\n",
       "        <td style=\"padding-left: 1em; padding-right: 1em; text-align: center; vertical-align: top\">2</td>\n",
       "    </tr>\n",
       "    <tr>\n",
       "        <td style=\"padding-left: 1em; padding-right: 1em; text-align: center; vertical-align: top\">53.0</td>\n",
       "        <td style=\"padding-left: 1em; padding-right: 1em; text-align: center; vertical-align: top\">1.0</td>\n",
       "        <td style=\"padding-left: 1em; padding-right: 1em; text-align: center; vertical-align: top\">4.0</td>\n",
       "        <td style=\"padding-left: 1em; padding-right: 1em; text-align: center; vertical-align: top\">140.0</td>\n",
       "        <td style=\"padding-left: 1em; padding-right: 1em; text-align: center; vertical-align: top\">203.0</td>\n",
       "        <td style=\"padding-left: 1em; padding-right: 1em; text-align: center; vertical-align: top\">1.0</td>\n",
       "        <td style=\"padding-left: 1em; padding-right: 1em; text-align: center; vertical-align: top\">2.0</td>\n",
       "        <td style=\"padding-left: 1em; padding-right: 1em; text-align: center; vertical-align: top\">155.0</td>\n",
       "        <td style=\"padding-left: 1em; padding-right: 1em; text-align: center; vertical-align: top\">1.0</td>\n",
       "        <td style=\"padding-left: 1em; padding-right: 1em; text-align: center; vertical-align: top\">3.1</td>\n",
       "        <td style=\"padding-left: 1em; padding-right: 1em; text-align: center; vertical-align: top\">3.0</td>\n",
       "        <td style=\"padding-left: 1em; padding-right: 1em; text-align: center; vertical-align: top\">0.0</td>\n",
       "        <td style=\"padding-left: 1em; padding-right: 1em; text-align: center; vertical-align: top\">7.0</td>\n",
       "        <td style=\"padding-left: 1em; padding-right: 1em; text-align: center; vertical-align: top\">1</td>\n",
       "    </tr>\n",
       "</table>\n",
       "[282 rows x 14 columns]<br/>Note: Only the head of the SFrame is printed.<br/>You can use print_rows(num_rows=m, num_columns=n) to print more rows and columns.\n",
       "</div>"
      ],
      "text/plain": [
       "Columns:\n",
       "\tage\tfloat\n",
       "\tsex\tfloat\n",
       "\tcp\tfloat\n",
       "\ttrestpbs\tfloat\n",
       "\tchol\tfloat\n",
       "\tfbs\tfloat\n",
       "\trestecg\tfloat\n",
       "\tthalach\tfloat\n",
       "\texang\tfloat\n",
       "\toldpeak\tfloat\n",
       "\tslope\tfloat\n",
       "\tca\tfloat\n",
       "\tthal\tstr\n",
       "\tnum\tint\n",
       "\n",
       "Rows: 282\n",
       "\n",
       "Data:\n",
       "+------+-----+-----+----------+-------+-----+---------+---------+-------+---------+\n",
       "| age  | sex |  cp | trestpbs |  chol | fbs | restecg | thalach | exang | oldpeak |\n",
       "+------+-----+-----+----------+-------+-----+---------+---------+-------+---------+\n",
       "| 63.0 | 1.0 | 1.0 |  145.0   | 233.0 | 1.0 |   2.0   |  150.0  |  0.0  |   2.3   |\n",
       "| 67.0 | 1.0 | 4.0 |  160.0   | 286.0 | 0.0 |   2.0   |  108.0  |  1.0  |   1.5   |\n",
       "| 67.0 | 1.0 | 4.0 |  120.0   | 229.0 | 0.0 |   2.0   |  129.0  |  1.0  |   2.6   |\n",
       "| 37.0 | 1.0 | 3.0 |  130.0   | 250.0 | 0.0 |   0.0   |  187.0  |  0.0  |   3.5   |\n",
       "| 41.0 | 0.0 | 2.0 |  130.0   | 204.0 | 0.0 |   2.0   |  172.0  |  0.0  |   1.4   |\n",
       "| 56.0 | 1.0 | 2.0 |  120.0   | 236.0 | 0.0 |   0.0   |  178.0  |  0.0  |   0.8   |\n",
       "| 62.0 | 0.0 | 4.0 |  140.0   | 268.0 | 0.0 |   2.0   |  160.0  |  0.0  |   3.6   |\n",
       "| 57.0 | 0.0 | 4.0 |  120.0   | 354.0 | 0.0 |   0.0   |  163.0  |  1.0  |   0.6   |\n",
       "| 63.0 | 1.0 | 4.0 |  130.0   | 254.0 | 0.0 |   2.0   |  147.0  |  0.0  |   1.4   |\n",
       "| 53.0 | 1.0 | 4.0 |  140.0   | 203.0 | 1.0 |   2.0   |  155.0  |  1.0  |   3.1   |\n",
       "+------+-----+-----+----------+-------+-----+---------+---------+-------+---------+\n",
       "+-------+-----+------+-----+\n",
       "| slope |  ca | thal | num |\n",
       "+-------+-----+------+-----+\n",
       "|  3.0  | 0.0 | 6.0  |  0  |\n",
       "|  2.0  | 3.0 | 3.0  |  2  |\n",
       "|  2.0  | 2.0 | 7.0  |  1  |\n",
       "|  3.0  | 0.0 | 3.0  |  0  |\n",
       "|  1.0  | 0.0 | 3.0  |  0  |\n",
       "|  1.0  | 0.0 | 3.0  |  0  |\n",
       "|  3.0  | 2.0 | 3.0  |  3  |\n",
       "|  1.0  | 0.0 | 3.0  |  0  |\n",
       "|  2.0  | 1.0 | 7.0  |  2  |\n",
       "|  3.0  | 0.0 | 7.0  |  1  |\n",
       "+-------+-----+------+-----+\n",
       "[282 rows x 14 columns]\n",
       "Note: Only the head of the SFrame is printed.\n",
       "You can use print_rows(num_rows=m, num_columns=n) to print more rows and columns."
      ]
     },
     "execution_count": 3,
     "metadata": {},
     "output_type": "execute_result"
    }
   ],
   "source": [
    "trainingData"
   ]
  },
  {
   "cell_type": "code",
   "execution_count": 4,
   "metadata": {
    "collapsed": false
   },
   "outputs": [
    {
     "data": {
      "text/html": [
       "<pre>Finished parsing file C:\\Users\\Moh.BadarHashimi\\Desktop\\ML project\\heart disease prediction\\resources\\heart_dis_test_data.csv</pre>"
      ],
      "text/plain": [
       "Finished parsing file C:\\Users\\Moh.BadarHashimi\\Desktop\\ML project\\heart disease prediction\\resources\\heart_dis_test_data.csv"
      ]
     },
     "metadata": {},
     "output_type": "display_data"
    },
    {
     "data": {
      "text/html": [
       "<pre>Parsing completed. Parsed 19 lines in 0.046876 secs.</pre>"
      ],
      "text/plain": [
       "Parsing completed. Parsed 19 lines in 0.046876 secs."
      ]
     },
     "metadata": {},
     "output_type": "display_data"
    },
    {
     "name": "stdout",
     "output_type": "stream",
     "text": [
      "------------------------------------------------------\n",
      "Inferred types from first 100 line(s) of file as \n",
      "column_type_hints=[long,long,long,long,long,long,long,long,long,float,long,str,long,long]\n",
      "If parsing fails due to incorrect types, you can correct\n",
      "the inferred type list above and pass it to read_csv in\n",
      "the column_type_hints argument\n",
      "------------------------------------------------------\n"
     ]
    },
    {
     "data": {
      "text/html": [
       "<pre>Finished parsing file C:\\Users\\Moh.BadarHashimi\\Desktop\\ML project\\heart disease prediction\\resources\\heart_dis_test_data.csv</pre>"
      ],
      "text/plain": [
       "Finished parsing file C:\\Users\\Moh.BadarHashimi\\Desktop\\ML project\\heart disease prediction\\resources\\heart_dis_test_data.csv"
      ]
     },
     "metadata": {},
     "output_type": "display_data"
    },
    {
     "data": {
      "text/html": [
       "<pre>Parsing completed. Parsed 19 lines in 0.046927 secs.</pre>"
      ],
      "text/plain": [
       "Parsing completed. Parsed 19 lines in 0.046927 secs."
      ]
     },
     "metadata": {},
     "output_type": "display_data"
    }
   ],
   "source": [
    "testingData  = gl.SFrame('resources/heart_dis_test_data.csv')"
   ]
  },
  {
   "cell_type": "code",
   "execution_count": 5,
   "metadata": {
    "collapsed": false
   },
   "outputs": [
    {
     "data": {
      "text/html": [
       "<div style=\"max-height:1000px;max-width:1500px;overflow:auto;\"><table frame=\"box\" rules=\"cols\">\n",
       "    <tr>\n",
       "        <th style=\"padding-left: 1em; padding-right: 1em; text-align: center\">age</th>\n",
       "        <th style=\"padding-left: 1em; padding-right: 1em; text-align: center\">sex</th>\n",
       "        <th style=\"padding-left: 1em; padding-right: 1em; text-align: center\">cp</th>\n",
       "        <th style=\"padding-left: 1em; padding-right: 1em; text-align: center\">trestpbs</th>\n",
       "        <th style=\"padding-left: 1em; padding-right: 1em; text-align: center\">chol</th>\n",
       "        <th style=\"padding-left: 1em; padding-right: 1em; text-align: center\">fbs</th>\n",
       "        <th style=\"padding-left: 1em; padding-right: 1em; text-align: center\">restecg</th>\n",
       "        <th style=\"padding-left: 1em; padding-right: 1em; text-align: center\">thalach</th>\n",
       "        <th style=\"padding-left: 1em; padding-right: 1em; text-align: center\">exang</th>\n",
       "        <th style=\"padding-left: 1em; padding-right: 1em; text-align: center\">oldpeak</th>\n",
       "        <th style=\"padding-left: 1em; padding-right: 1em; text-align: center\">slope</th>\n",
       "        <th style=\"padding-left: 1em; padding-right: 1em; text-align: center\">ca</th>\n",
       "        <th style=\"padding-left: 1em; padding-right: 1em; text-align: center\">thal</th>\n",
       "        <th style=\"padding-left: 1em; padding-right: 1em; text-align: center\">num</th>\n",
       "    </tr>\n",
       "    <tr>\n",
       "        <td style=\"padding-left: 1em; padding-right: 1em; text-align: center; vertical-align: top\">61</td>\n",
       "        <td style=\"padding-left: 1em; padding-right: 1em; text-align: center; vertical-align: top\">1</td>\n",
       "        <td style=\"padding-left: 1em; padding-right: 1em; text-align: center; vertical-align: top\">4</td>\n",
       "        <td style=\"padding-left: 1em; padding-right: 1em; text-align: center; vertical-align: top\">148</td>\n",
       "        <td style=\"padding-left: 1em; padding-right: 1em; text-align: center; vertical-align: top\">203</td>\n",
       "        <td style=\"padding-left: 1em; padding-right: 1em; text-align: center; vertical-align: top\">0</td>\n",
       "        <td style=\"padding-left: 1em; padding-right: 1em; text-align: center; vertical-align: top\">0</td>\n",
       "        <td style=\"padding-left: 1em; padding-right: 1em; text-align: center; vertical-align: top\">161</td>\n",
       "        <td style=\"padding-left: 1em; padding-right: 1em; text-align: center; vertical-align: top\">0</td>\n",
       "        <td style=\"padding-left: 1em; padding-right: 1em; text-align: center; vertical-align: top\">0.0</td>\n",
       "        <td style=\"padding-left: 1em; padding-right: 1em; text-align: center; vertical-align: top\">1</td>\n",
       "        <td style=\"padding-left: 1em; padding-right: 1em; text-align: center; vertical-align: top\">1</td>\n",
       "        <td style=\"padding-left: 1em; padding-right: 1em; text-align: center; vertical-align: top\">7</td>\n",
       "        <td style=\"padding-left: 1em; padding-right: 1em; text-align: center; vertical-align: top\">2</td>\n",
       "    </tr>\n",
       "    <tr>\n",
       "        <td style=\"padding-left: 1em; padding-right: 1em; text-align: center; vertical-align: top\">58</td>\n",
       "        <td style=\"padding-left: 1em; padding-right: 1em; text-align: center; vertical-align: top\">1</td>\n",
       "        <td style=\"padding-left: 1em; padding-right: 1em; text-align: center; vertical-align: top\">4</td>\n",
       "        <td style=\"padding-left: 1em; padding-right: 1em; text-align: center; vertical-align: top\">114</td>\n",
       "        <td style=\"padding-left: 1em; padding-right: 1em; text-align: center; vertical-align: top\">318</td>\n",
       "        <td style=\"padding-left: 1em; padding-right: 1em; text-align: center; vertical-align: top\">0</td>\n",
       "        <td style=\"padding-left: 1em; padding-right: 1em; text-align: center; vertical-align: top\">1</td>\n",
       "        <td style=\"padding-left: 1em; padding-right: 1em; text-align: center; vertical-align: top\">140</td>\n",
       "        <td style=\"padding-left: 1em; padding-right: 1em; text-align: center; vertical-align: top\">0</td>\n",
       "        <td style=\"padding-left: 1em; padding-right: 1em; text-align: center; vertical-align: top\">4.4</td>\n",
       "        <td style=\"padding-left: 1em; padding-right: 1em; text-align: center; vertical-align: top\">3</td>\n",
       "        <td style=\"padding-left: 1em; padding-right: 1em; text-align: center; vertical-align: top\">3</td>\n",
       "        <td style=\"padding-left: 1em; padding-right: 1em; text-align: center; vertical-align: top\">6</td>\n",
       "        <td style=\"padding-left: 1em; padding-right: 1em; text-align: center; vertical-align: top\">4</td>\n",
       "    </tr>\n",
       "    <tr>\n",
       "        <td style=\"padding-left: 1em; padding-right: 1em; text-align: center; vertical-align: top\">58</td>\n",
       "        <td style=\"padding-left: 1em; padding-right: 1em; text-align: center; vertical-align: top\">0</td>\n",
       "        <td style=\"padding-left: 1em; padding-right: 1em; text-align: center; vertical-align: top\">4</td>\n",
       "        <td style=\"padding-left: 1em; padding-right: 1em; text-align: center; vertical-align: top\">170</td>\n",
       "        <td style=\"padding-left: 1em; padding-right: 1em; text-align: center; vertical-align: top\">225</td>\n",
       "        <td style=\"padding-left: 1em; padding-right: 1em; text-align: center; vertical-align: top\">1</td>\n",
       "        <td style=\"padding-left: 1em; padding-right: 1em; text-align: center; vertical-align: top\">2</td>\n",
       "        <td style=\"padding-left: 1em; padding-right: 1em; text-align: center; vertical-align: top\">146</td>\n",
       "        <td style=\"padding-left: 1em; padding-right: 1em; text-align: center; vertical-align: top\">1</td>\n",
       "        <td style=\"padding-left: 1em; padding-right: 1em; text-align: center; vertical-align: top\">2.8</td>\n",
       "        <td style=\"padding-left: 1em; padding-right: 1em; text-align: center; vertical-align: top\">2</td>\n",
       "        <td style=\"padding-left: 1em; padding-right: 1em; text-align: center; vertical-align: top\">2</td>\n",
       "        <td style=\"padding-left: 1em; padding-right: 1em; text-align: center; vertical-align: top\">6</td>\n",
       "        <td style=\"padding-left: 1em; padding-right: 1em; text-align: center; vertical-align: top\">2</td>\n",
       "    </tr>\n",
       "    <tr>\n",
       "        <td style=\"padding-left: 1em; padding-right: 1em; text-align: center; vertical-align: top\">58</td>\n",
       "        <td style=\"padding-left: 1em; padding-right: 1em; text-align: center; vertical-align: top\">1</td>\n",
       "        <td style=\"padding-left: 1em; padding-right: 1em; text-align: center; vertical-align: top\">2</td>\n",
       "        <td style=\"padding-left: 1em; padding-right: 1em; text-align: center; vertical-align: top\">125</td>\n",
       "        <td style=\"padding-left: 1em; padding-right: 1em; text-align: center; vertical-align: top\">220</td>\n",
       "        <td style=\"padding-left: 1em; padding-right: 1em; text-align: center; vertical-align: top\">0</td>\n",
       "        <td style=\"padding-left: 1em; padding-right: 1em; text-align: center; vertical-align: top\">0</td>\n",
       "        <td style=\"padding-left: 1em; padding-right: 1em; text-align: center; vertical-align: top\">144</td>\n",
       "        <td style=\"padding-left: 1em; padding-right: 1em; text-align: center; vertical-align: top\">0</td>\n",
       "        <td style=\"padding-left: 1em; padding-right: 1em; text-align: center; vertical-align: top\">0.4</td>\n",
       "        <td style=\"padding-left: 1em; padding-right: 1em; text-align: center; vertical-align: top\">2</td>\n",
       "        <td style=\"padding-left: 1em; padding-right: 1em; text-align: center; vertical-align: top\">?</td>\n",
       "        <td style=\"padding-left: 1em; padding-right: 1em; text-align: center; vertical-align: top\">7</td>\n",
       "        <td style=\"padding-left: 1em; padding-right: 1em; text-align: center; vertical-align: top\">0</td>\n",
       "    </tr>\n",
       "    <tr>\n",
       "        <td style=\"padding-left: 1em; padding-right: 1em; text-align: center; vertical-align: top\">56</td>\n",
       "        <td style=\"padding-left: 1em; padding-right: 1em; text-align: center; vertical-align: top\">1</td>\n",
       "        <td style=\"padding-left: 1em; padding-right: 1em; text-align: center; vertical-align: top\">2</td>\n",
       "        <td style=\"padding-left: 1em; padding-right: 1em; text-align: center; vertical-align: top\">130</td>\n",
       "        <td style=\"padding-left: 1em; padding-right: 1em; text-align: center; vertical-align: top\">221</td>\n",
       "        <td style=\"padding-left: 1em; padding-right: 1em; text-align: center; vertical-align: top\">0</td>\n",
       "        <td style=\"padding-left: 1em; padding-right: 1em; text-align: center; vertical-align: top\">2</td>\n",
       "        <td style=\"padding-left: 1em; padding-right: 1em; text-align: center; vertical-align: top\">163</td>\n",
       "        <td style=\"padding-left: 1em; padding-right: 1em; text-align: center; vertical-align: top\">0</td>\n",
       "        <td style=\"padding-left: 1em; padding-right: 1em; text-align: center; vertical-align: top\">0.0</td>\n",
       "        <td style=\"padding-left: 1em; padding-right: 1em; text-align: center; vertical-align: top\">1</td>\n",
       "        <td style=\"padding-left: 1em; padding-right: 1em; text-align: center; vertical-align: top\">0</td>\n",
       "        <td style=\"padding-left: 1em; padding-right: 1em; text-align: center; vertical-align: top\">7</td>\n",
       "        <td style=\"padding-left: 1em; padding-right: 1em; text-align: center; vertical-align: top\">0</td>\n",
       "    </tr>\n",
       "    <tr>\n",
       "        <td style=\"padding-left: 1em; padding-right: 1em; text-align: center; vertical-align: top\">56</td>\n",
       "        <td style=\"padding-left: 1em; padding-right: 1em; text-align: center; vertical-align: top\">1</td>\n",
       "        <td style=\"padding-left: 1em; padding-right: 1em; text-align: center; vertical-align: top\">2</td>\n",
       "        <td style=\"padding-left: 1em; padding-right: 1em; text-align: center; vertical-align: top\">120</td>\n",
       "        <td style=\"padding-left: 1em; padding-right: 1em; text-align: center; vertical-align: top\">240</td>\n",
       "        <td style=\"padding-left: 1em; padding-right: 1em; text-align: center; vertical-align: top\">0</td>\n",
       "        <td style=\"padding-left: 1em; padding-right: 1em; text-align: center; vertical-align: top\">0</td>\n",
       "        <td style=\"padding-left: 1em; padding-right: 1em; text-align: center; vertical-align: top\">169</td>\n",
       "        <td style=\"padding-left: 1em; padding-right: 1em; text-align: center; vertical-align: top\">0</td>\n",
       "        <td style=\"padding-left: 1em; padding-right: 1em; text-align: center; vertical-align: top\">0.0</td>\n",
       "        <td style=\"padding-left: 1em; padding-right: 1em; text-align: center; vertical-align: top\">3</td>\n",
       "        <td style=\"padding-left: 1em; padding-right: 1em; text-align: center; vertical-align: top\">0</td>\n",
       "        <td style=\"padding-left: 1em; padding-right: 1em; text-align: center; vertical-align: top\">3</td>\n",
       "        <td style=\"padding-left: 1em; padding-right: 1em; text-align: center; vertical-align: top\">0</td>\n",
       "    </tr>\n",
       "    <tr>\n",
       "        <td style=\"padding-left: 1em; padding-right: 1em; text-align: center; vertical-align: top\">67</td>\n",
       "        <td style=\"padding-left: 1em; padding-right: 1em; text-align: center; vertical-align: top\">1</td>\n",
       "        <td style=\"padding-left: 1em; padding-right: 1em; text-align: center; vertical-align: top\">3</td>\n",
       "        <td style=\"padding-left: 1em; padding-right: 1em; text-align: center; vertical-align: top\">152</td>\n",
       "        <td style=\"padding-left: 1em; padding-right: 1em; text-align: center; vertical-align: top\">212</td>\n",
       "        <td style=\"padding-left: 1em; padding-right: 1em; text-align: center; vertical-align: top\">0</td>\n",
       "        <td style=\"padding-left: 1em; padding-right: 1em; text-align: center; vertical-align: top\">2</td>\n",
       "        <td style=\"padding-left: 1em; padding-right: 1em; text-align: center; vertical-align: top\">150</td>\n",
       "        <td style=\"padding-left: 1em; padding-right: 1em; text-align: center; vertical-align: top\">0</td>\n",
       "        <td style=\"padding-left: 1em; padding-right: 1em; text-align: center; vertical-align: top\">0.8</td>\n",
       "        <td style=\"padding-left: 1em; padding-right: 1em; text-align: center; vertical-align: top\">2</td>\n",
       "        <td style=\"padding-left: 1em; padding-right: 1em; text-align: center; vertical-align: top\">0</td>\n",
       "        <td style=\"padding-left: 1em; padding-right: 1em; text-align: center; vertical-align: top\">7</td>\n",
       "        <td style=\"padding-left: 1em; padding-right: 1em; text-align: center; vertical-align: top\">1</td>\n",
       "    </tr>\n",
       "    <tr>\n",
       "        <td style=\"padding-left: 1em; padding-right: 1em; text-align: center; vertical-align: top\">55</td>\n",
       "        <td style=\"padding-left: 1em; padding-right: 1em; text-align: center; vertical-align: top\">0</td>\n",
       "        <td style=\"padding-left: 1em; padding-right: 1em; text-align: center; vertical-align: top\">2</td>\n",
       "        <td style=\"padding-left: 1em; padding-right: 1em; text-align: center; vertical-align: top\">132</td>\n",
       "        <td style=\"padding-left: 1em; padding-right: 1em; text-align: center; vertical-align: top\">342</td>\n",
       "        <td style=\"padding-left: 1em; padding-right: 1em; text-align: center; vertical-align: top\">0</td>\n",
       "        <td style=\"padding-left: 1em; padding-right: 1em; text-align: center; vertical-align: top\">0</td>\n",
       "        <td style=\"padding-left: 1em; padding-right: 1em; text-align: center; vertical-align: top\">166</td>\n",
       "        <td style=\"padding-left: 1em; padding-right: 1em; text-align: center; vertical-align: top\">0</td>\n",
       "        <td style=\"padding-left: 1em; padding-right: 1em; text-align: center; vertical-align: top\">1.2</td>\n",
       "        <td style=\"padding-left: 1em; padding-right: 1em; text-align: center; vertical-align: top\">1</td>\n",
       "        <td style=\"padding-left: 1em; padding-right: 1em; text-align: center; vertical-align: top\">0</td>\n",
       "        <td style=\"padding-left: 1em; padding-right: 1em; text-align: center; vertical-align: top\">3</td>\n",
       "        <td style=\"padding-left: 1em; padding-right: 1em; text-align: center; vertical-align: top\">0</td>\n",
       "    </tr>\n",
       "    <tr>\n",
       "        <td style=\"padding-left: 1em; padding-right: 1em; text-align: center; vertical-align: top\">44</td>\n",
       "        <td style=\"padding-left: 1em; padding-right: 1em; text-align: center; vertical-align: top\">1</td>\n",
       "        <td style=\"padding-left: 1em; padding-right: 1em; text-align: center; vertical-align: top\">4</td>\n",
       "        <td style=\"padding-left: 1em; padding-right: 1em; text-align: center; vertical-align: top\">120</td>\n",
       "        <td style=\"padding-left: 1em; padding-right: 1em; text-align: center; vertical-align: top\">169</td>\n",
       "        <td style=\"padding-left: 1em; padding-right: 1em; text-align: center; vertical-align: top\">0</td>\n",
       "        <td style=\"padding-left: 1em; padding-right: 1em; text-align: center; vertical-align: top\">0</td>\n",
       "        <td style=\"padding-left: 1em; padding-right: 1em; text-align: center; vertical-align: top\">144</td>\n",
       "        <td style=\"padding-left: 1em; padding-right: 1em; text-align: center; vertical-align: top\">1</td>\n",
       "        <td style=\"padding-left: 1em; padding-right: 1em; text-align: center; vertical-align: top\">2.8</td>\n",
       "        <td style=\"padding-left: 1em; padding-right: 1em; text-align: center; vertical-align: top\">3</td>\n",
       "        <td style=\"padding-left: 1em; padding-right: 1em; text-align: center; vertical-align: top\">0</td>\n",
       "        <td style=\"padding-left: 1em; padding-right: 1em; text-align: center; vertical-align: top\">6</td>\n",
       "        <td style=\"padding-left: 1em; padding-right: 1em; text-align: center; vertical-align: top\">2</td>\n",
       "    </tr>\n",
       "    <tr>\n",
       "        <td style=\"padding-left: 1em; padding-right: 1em; text-align: center; vertical-align: top\">63</td>\n",
       "        <td style=\"padding-left: 1em; padding-right: 1em; text-align: center; vertical-align: top\">1</td>\n",
       "        <td style=\"padding-left: 1em; padding-right: 1em; text-align: center; vertical-align: top\">4</td>\n",
       "        <td style=\"padding-left: 1em; padding-right: 1em; text-align: center; vertical-align: top\">140</td>\n",
       "        <td style=\"padding-left: 1em; padding-right: 1em; text-align: center; vertical-align: top\">187</td>\n",
       "        <td style=\"padding-left: 1em; padding-right: 1em; text-align: center; vertical-align: top\">0</td>\n",
       "        <td style=\"padding-left: 1em; padding-right: 1em; text-align: center; vertical-align: top\">2</td>\n",
       "        <td style=\"padding-left: 1em; padding-right: 1em; text-align: center; vertical-align: top\">144</td>\n",
       "        <td style=\"padding-left: 1em; padding-right: 1em; text-align: center; vertical-align: top\">1</td>\n",
       "        <td style=\"padding-left: 1em; padding-right: 1em; text-align: center; vertical-align: top\">4.0</td>\n",
       "        <td style=\"padding-left: 1em; padding-right: 1em; text-align: center; vertical-align: top\">1</td>\n",
       "        <td style=\"padding-left: 1em; padding-right: 1em; text-align: center; vertical-align: top\">2</td>\n",
       "        <td style=\"padding-left: 1em; padding-right: 1em; text-align: center; vertical-align: top\">7</td>\n",
       "        <td style=\"padding-left: 1em; padding-right: 1em; text-align: center; vertical-align: top\">2</td>\n",
       "    </tr>\n",
       "</table>\n",
       "[19 rows x 14 columns]<br/>Note: Only the head of the SFrame is printed.<br/>You can use print_rows(num_rows=m, num_columns=n) to print more rows and columns.\n",
       "</div>"
      ],
      "text/plain": [
       "Columns:\n",
       "\tage\tint\n",
       "\tsex\tint\n",
       "\tcp\tint\n",
       "\ttrestpbs\tint\n",
       "\tchol\tint\n",
       "\tfbs\tint\n",
       "\trestecg\tint\n",
       "\tthalach\tint\n",
       "\texang\tint\n",
       "\toldpeak\tfloat\n",
       "\tslope\tint\n",
       "\tca\tstr\n",
       "\tthal\tint\n",
       "\tnum\tint\n",
       "\n",
       "Rows: 19\n",
       "\n",
       "Data:\n",
       "+-----+-----+----+----------+------+-----+---------+---------+-------+---------+\n",
       "| age | sex | cp | trestpbs | chol | fbs | restecg | thalach | exang | oldpeak |\n",
       "+-----+-----+----+----------+------+-----+---------+---------+-------+---------+\n",
       "|  61 |  1  | 4  |   148    | 203  |  0  |    0    |   161   |   0   |   0.0   |\n",
       "|  58 |  1  | 4  |   114    | 318  |  0  |    1    |   140   |   0   |   4.4   |\n",
       "|  58 |  0  | 4  |   170    | 225  |  1  |    2    |   146   |   1   |   2.8   |\n",
       "|  58 |  1  | 2  |   125    | 220  |  0  |    0    |   144   |   0   |   0.4   |\n",
       "|  56 |  1  | 2  |   130    | 221  |  0  |    2    |   163   |   0   |   0.0   |\n",
       "|  56 |  1  | 2  |   120    | 240  |  0  |    0    |   169   |   0   |   0.0   |\n",
       "|  67 |  1  | 3  |   152    | 212  |  0  |    2    |   150   |   0   |   0.8   |\n",
       "|  55 |  0  | 2  |   132    | 342  |  0  |    0    |   166   |   0   |   1.2   |\n",
       "|  44 |  1  | 4  |   120    | 169  |  0  |    0    |   144   |   1   |   2.8   |\n",
       "|  63 |  1  | 4  |   140    | 187  |  0  |    2    |   144   |   1   |   4.0   |\n",
       "+-----+-----+----+----------+------+-----+---------+---------+-------+---------+\n",
       "+-------+----+------+-----+\n",
       "| slope | ca | thal | num |\n",
       "+-------+----+------+-----+\n",
       "|   1   | 1  |  7   |  2  |\n",
       "|   3   | 3  |  6   |  4  |\n",
       "|   2   | 2  |  6   |  2  |\n",
       "|   2   | ?  |  7   |  0  |\n",
       "|   1   | 0  |  7   |  0  |\n",
       "|   3   | 0  |  3   |  0  |\n",
       "|   2   | 0  |  7   |  1  |\n",
       "|   1   | 0  |  3   |  0  |\n",
       "|   3   | 0  |  6   |  2  |\n",
       "|   1   | 2  |  7   |  2  |\n",
       "+-------+----+------+-----+\n",
       "[19 rows x 14 columns]\n",
       "Note: Only the head of the SFrame is printed.\n",
       "You can use print_rows(num_rows=m, num_columns=n) to print more rows and columns."
      ]
     },
     "execution_count": 5,
     "metadata": {},
     "output_type": "execute_result"
    }
   ],
   "source": [
    "testingData"
   ]
  },
  {
   "cell_type": "code",
   "execution_count": 14,
   "metadata": {
    "collapsed": false
   },
   "outputs": [
    {
     "data": {
      "application/javascript": [
       "$(\"head\").append($(\"<link/>\").attr({\n",
       "  rel:  \"stylesheet\",\n",
       "  type: \"text/css\",\n",
       "  href: \"//cdnjs.cloudflare.com/ajax/libs/font-awesome/4.1.0/css/font-awesome.min.css\"\n",
       "}));\n",
       "$(\"head\").append($(\"<link/>\").attr({\n",
       "  rel:  \"stylesheet\",\n",
       "  type: \"text/css\",\n",
       "  href: \"https://static.turi.com/products/graphlab-create/2.1/canvas/css/canvas.css\"\n",
       "}));\n",
       "\n",
       "            (function(){\n",
       "\n",
       "                var e = null;\n",
       "                if (typeof element == 'undefined') {\n",
       "                    var scripts = document.getElementsByTagName('script');\n",
       "                    var thisScriptTag = scripts[scripts.length-1];\n",
       "                    var parentDiv = thisScriptTag.parentNode;\n",
       "                    e = document.createElement('div');\n",
       "                    parentDiv.appendChild(e);\n",
       "                } else {\n",
       "                    e = element[0];\n",
       "                }\n",
       "\n",
       "                if (typeof requirejs !== 'undefined') {\n",
       "                    // disable load timeout; ipython_app.js is large and can take a while to load.\n",
       "                    requirejs.config({waitSeconds: 0});\n",
       "                }\n",
       "\n",
       "                require(['https://static.turi.com/products/graphlab-create/2.1/canvas/js/ipython_app.js'], function(IPythonApp){\n",
       "                    var app = new IPythonApp();\n",
       "                    app.attachView('sframe','Summary', {\"ipython\": true, \"sketch\": {\"fbs\": {\"std\": 0.35249368533249753, \"complete\": true, \"min\": 0.0, \"max\": 1.0, \"quantile\": [0.0, 0.0, 0.0, 0.0, 0.0, 0.0, 0.0, 0.0, 0.0, 0.0, 0.0, 0.0, 0.0, 0.0, 0.0, 0.0, 0.0, 0.0, 0.0, 0.0, 0.0, 0.0, 0.0, 0.0, 0.0, 0.0, 0.0, 0.0, 0.0, 0.0, 0.0, 0.0, 0.0, 0.0, 0.0, 0.0, 0.0, 0.0, 0.0, 0.0, 0.0, 0.0, 0.0, 0.0, 0.0, 0.0, 0.0, 0.0, 0.0, 0.0, 0.0, 0.0, 0.0, 0.0, 0.0, 0.0, 0.0, 0.0, 0.0, 0.0, 0.0, 0.0, 0.0, 0.0, 0.0, 0.0, 0.0, 0.0, 0.0, 0.0, 0.0, 0.0, 0.0, 0.0, 0.0, 0.0, 0.0, 0.0, 0.0, 0.0, 0.0, 0.0, 0.0, 0.0, 0.0, 0.0, 1.0, 1.0, 1.0, 1.0, 1.0, 1.0, 1.0, 1.0, 1.0, 1.0, 1.0, 1.0, 1.0, 1.0, 1.0], \"median\": 0.0, \"numeric\": true, \"num_unique\": 2, \"num_undefined\": 0, \"var\": 0.12425179819928578, \"progress\": 1.0, \"size\": 282, \"frequent_items\": {\"0.0\": {\"frequency\": 241, \"value\": 0.0}, \"1.0\": {\"frequency\": 41, \"value\": 1.0}}, \"mean\": 0.14539007092198586}, \"slope\": {\"std\": 0.6086184995909704, \"complete\": true, \"min\": 1.0, \"max\": 3.0, \"quantile\": [1.0, 1.0, 1.0, 1.0, 1.0, 1.0, 1.0, 1.0, 1.0, 1.0, 1.0, 1.0, 1.0, 1.0, 1.0, 1.0, 1.0, 1.0, 1.0, 1.0, 1.0, 1.0, 1.0, 1.0, 1.0, 1.0, 1.0, 1.0, 1.0, 1.0, 1.0, 1.0, 1.0, 1.0, 1.0, 1.0, 1.0, 1.0, 1.0, 1.0, 1.0, 1.0, 1.0, 1.0, 1.0, 1.0, 1.0, 1.0, 2.0, 2.0, 2.0, 2.0, 2.0, 2.0, 2.0, 2.0, 2.0, 2.0, 2.0, 2.0, 2.0, 2.0, 2.0, 2.0, 2.0, 2.0, 2.0, 2.0, 2.0, 2.0, 2.0, 2.0, 2.0, 2.0, 2.0, 2.0, 2.0, 2.0, 2.0, 2.0, 2.0, 2.0, 2.0, 2.0, 2.0, 2.0, 2.0, 2.0, 2.0, 2.0, 2.0, 2.0, 2.0, 2.0, 3.0, 3.0, 3.0, 3.0, 3.0, 3.0, 3.0], \"median\": 2.0, \"numeric\": true, \"num_unique\": 3, \"num_undefined\": 0, \"var\": 0.37041647804436395, \"progress\": 1.0, \"size\": 282, \"frequent_items\": {\"1.0\": {\"frequency\": 135, \"value\": 1.0}, \"2.0\": {\"frequency\": 129, \"value\": 2.0}, \"3.0\": {\"frequency\": 18, \"value\": 3.0}}, \"mean\": 1.5851063829787233}, \"exang\": {\"std\": 0.46883670584506126, \"complete\": true, \"min\": 0.0, \"max\": 1.0, \"quantile\": [0.0, 0.0, 0.0, 0.0, 0.0, 0.0, 0.0, 0.0, 0.0, 0.0, 0.0, 0.0, 0.0, 0.0, 0.0, 0.0, 0.0, 0.0, 0.0, 0.0, 0.0, 0.0, 0.0, 0.0, 0.0, 0.0, 0.0, 0.0, 0.0, 0.0, 0.0, 0.0, 0.0, 0.0, 0.0, 0.0, 0.0, 0.0, 0.0, 0.0, 0.0, 0.0, 0.0, 0.0, 0.0, 0.0, 0.0, 0.0, 0.0, 0.0, 0.0, 0.0, 0.0, 0.0, 0.0, 0.0, 0.0, 0.0, 0.0, 0.0, 0.0, 0.0, 0.0, 0.0, 0.0, 0.0, 0.0, 0.0, 1.0, 1.0, 1.0, 1.0, 1.0, 1.0, 1.0, 1.0, 1.0, 1.0, 1.0, 1.0, 1.0, 1.0, 1.0, 1.0, 1.0, 1.0, 1.0, 1.0, 1.0, 1.0, 1.0, 1.0, 1.0, 1.0, 1.0, 1.0, 1.0, 1.0, 1.0, 1.0, 1.0], \"median\": 0.0, \"numeric\": true, \"num_unique\": 2, \"num_undefined\": 0, \"var\": 0.21980785674764852, \"progress\": 1.0, \"size\": 282, \"frequent_items\": {\"0.0\": {\"frequency\": 190, \"value\": 0.0}, \"1.0\": {\"frequency\": 92, \"value\": 1.0}}, \"mean\": 0.3262411347517732}, \"restecg\": {\"std\": 0.9946097369049023, \"complete\": true, \"min\": 0.0, \"max\": 2.0, \"quantile\": [0.0, 0.0, 0.0, 0.0, 0.0, 0.0, 0.0, 0.0, 0.0, 0.0, 0.0, 0.0, 0.0, 0.0, 0.0, 0.0, 0.0, 0.0, 0.0, 0.0, 0.0, 0.0, 0.0, 0.0, 0.0, 0.0, 0.0, 0.0, 0.0, 0.0, 0.0, 0.0, 0.0, 0.0, 0.0, 0.0, 0.0, 0.0, 0.0, 0.0, 0.0, 0.0, 0.0, 0.0, 0.0, 0.0, 0.0, 0.0, 0.0, 1.0, 2.0, 2.0, 2.0, 2.0, 2.0, 2.0, 2.0, 2.0, 2.0, 2.0, 2.0, 2.0, 2.0, 2.0, 2.0, 2.0, 2.0, 2.0, 2.0, 2.0, 2.0, 2.0, 2.0, 2.0, 2.0, 2.0, 2.0, 2.0, 2.0, 2.0, 2.0, 2.0, 2.0, 2.0, 2.0, 2.0, 2.0, 2.0, 2.0, 2.0, 2.0, 2.0, 2.0, 2.0, 2.0, 2.0, 2.0, 2.0, 2.0, 2.0, 2.0], \"median\": 2.0, \"numeric\": true, \"num_unique\": 3, \"num_undefined\": 0, \"var\": 0.9892485287460389, \"progress\": 1.0, \"size\": 282, \"frequent_items\": {\"0.0\": {\"frequency\": 138, \"value\": 0.0}, \"1.0\": {\"frequency\": 3, \"value\": 1.0}, \"2.0\": {\"frequency\": 141, \"value\": 2.0}}, \"mean\": 1.0106382978723405}, \"age\": {\"std\": 9.084182440104358, \"complete\": true, \"min\": 29.0, \"max\": 77.0, \"quantile\": [29.0, 34.0, 35.0, 37.0, 39.0, 40.0, 40.0, 41.0, 41.0, 41.0, 42.0, 42.0, 42.0, 43.0, 43.0, 44.0, 44.0, 44.0, 44.0, 45.0, 45.0, 46.0, 46.0, 46.0, 47.0, 48.0, 48.0, 48.0, 49.0, 49.0, 50.0, 50.0, 51.0, 51.0, 51.0, 51.0, 52.0, 52.0, 52.0, 52.0, 52.0, 53.0, 53.0, 54.0, 54.0, 54.0, 54.0, 54.0, 54.0, 55.0, 55.0, 55.0, 56.0, 56.0, 56.0, 57.0, 57.0, 57.0, 57.0, 57.0, 58.0, 58.0, 58.0, 58.0, 58.0, 59.0, 59.0, 59.0, 59.0, 59.0, 60.0, 60.0, 60.0, 60.0, 61.0, 61.0, 61.0, 62.0, 62.0, 62.0, 62.0, 63.0, 63.0, 64.0, 64.0, 64.0, 64.0, 65.0, 65.0, 65.0, 66.0, 66.0, 67.0, 67.0, 67.0, 68.0, 69.0, 70.0, 71.0, 74.0, 77.0], \"median\": 55.0, \"numeric\": true, \"num_unique\": 41, \"num_undefined\": 0, \"var\": 82.52237060510036, \"progress\": 1.0, \"size\": 282, \"frequent_items\": {\"29.0\": {\"frequency\": 1, \"value\": 29.0}, \"34.0\": {\"frequency\": 2, \"value\": 34.0}, \"35.0\": {\"frequency\": 4, \"value\": 35.0}, \"37.0\": {\"frequency\": 2, \"value\": 37.0}, \"38.0\": {\"frequency\": 1, \"value\": 38.0}, \"39.0\": {\"frequency\": 4, \"value\": 39.0}, \"40.0\": {\"frequency\": 3, \"value\": 40.0}, \"41.0\": {\"frequency\": 9, \"value\": 41.0}, \"42.0\": {\"frequency\": 8, \"value\": 42.0}, \"43.0\": {\"frequency\": 7, \"value\": 43.0}, \"44.0\": {\"frequency\": 10, \"value\": 44.0}, \"45.0\": {\"frequency\": 7, \"value\": 45.0}, \"46.0\": {\"frequency\": 7, \"value\": 46.0}, \"47.0\": {\"frequency\": 5, \"value\": 47.0}, \"48.0\": {\"frequency\": 7, \"value\": 48.0}, \"49.0\": {\"frequency\": 5, \"value\": 49.0}, \"50.0\": {\"frequency\": 7, \"value\": 50.0}, \"51.0\": {\"frequency\": 12, \"value\": 51.0}, \"52.0\": {\"frequency\": 12, \"value\": 52.0}, \"53.0\": {\"frequency\": 8, \"value\": 53.0}, \"54.0\": {\"frequency\": 16, \"value\": 54.0}, \"55.0\": {\"frequency\": 7, \"value\": 55.0}, \"56.0\": {\"frequency\": 9, \"value\": 56.0}, \"57.0\": {\"frequency\": 14, \"value\": 57.0}, \"58.0\": {\"frequency\": 16, \"value\": 58.0}, \"59.0\": {\"frequency\": 13, \"value\": 59.0}, \"60.0\": {\"frequency\": 12, \"value\": 60.0}, \"61.0\": {\"frequency\": 7, \"value\": 61.0}, \"62.0\": {\"frequency\": 11, \"value\": 62.0}, \"63.0\": {\"frequency\": 7, \"value\": 63.0}, \"64.0\": {\"frequency\": 10, \"value\": 64.0}, \"65.0\": {\"frequency\": 8, \"value\": 65.0}, \"66.0\": {\"frequency\": 7, \"value\": 66.0}, \"67.0\": {\"frequency\": 8, \"value\": 67.0}, \"68.0\": {\"frequency\": 3, \"value\": 68.0}, \"69.0\": {\"frequency\": 3, \"value\": 69.0}, \"70.0\": {\"frequency\": 4, \"value\": 70.0}, \"71.0\": {\"frequency\": 3, \"value\": 71.0}, \"74.0\": {\"frequency\": 1, \"value\": 74.0}, \"76.0\": {\"frequency\": 1, \"value\": 76.0}, \"77.0\": {\"frequency\": 1, \"value\": 77.0}}, \"mean\": 54.39361702127659}, \"trestpbs\": {\"std\": 17.73209673629315, \"complete\": true, \"min\": 94.0, \"max\": 200.0, \"quantile\": [94.0, 100.0, 100.0, 102.0, 105.0, 108.0, 108.0, 108.0, 110.0, 110.0, 110.0, 110.0, 110.0, 110.0, 112.0, 112.0, 112.0, 115.0, 117.0, 118.0, 118.0, 120.0, 120.0, 120.0, 120.0, 120.0, 120.0, 120.0, 120.0, 120.0, 120.0, 120.0, 120.0, 122.0, 122.0, 124.0, 124.0, 125.0, 125.0, 125.0, 126.0, 128.0, 128.0, 128.0, 128.0, 128.0, 130.0, 130.0, 130.0, 130.0, 130.0, 130.0, 130.0, 130.0, 130.0, 130.0, 130.0, 130.0, 132.0, 132.0, 134.0, 135.0, 135.0, 135.0, 136.0, 138.0, 138.0, 138.0, 140.0, 140.0, 140.0, 140.0, 140.0, 140.0, 140.0, 140.0, 140.0, 140.0, 140.0, 142.0, 145.0, 145.0, 146.0, 150.0, 150.0, 150.0, 150.0, 150.0, 150.0, 152.0, 152.0, 156.0, 160.0, 160.0, 160.0, 160.0, 170.0, 172.0, 178.0, 180.0, 200.0], \"median\": 130.0, \"numeric\": true, \"num_unique\": 48, \"num_undefined\": 0, \"var\": 314.4272546652582, \"progress\": 1.0, \"size\": 282, \"frequent_items\": {\"128.0\": {\"frequency\": 12, \"value\": 128.0}, \"129.0\": {\"frequency\": 1, \"value\": 129.0}, \"130.0\": {\"frequency\": 33, \"value\": 130.0}, \"132.0\": {\"frequency\": 6, \"value\": 132.0}, \"134.0\": {\"frequency\": 5, \"value\": 134.0}, \"135.0\": {\"frequency\": 6, \"value\": 135.0}, \"136.0\": {\"frequency\": 3, \"value\": 136.0}, \"138.0\": {\"frequency\": 10, \"value\": 138.0}, \"140.0\": {\"frequency\": 30, \"value\": 140.0}, \"142.0\": {\"frequency\": 3, \"value\": 142.0}, \"144.0\": {\"frequency\": 1, \"value\": 144.0}, \"145.0\": {\"frequency\": 5, \"value\": 145.0}, \"146.0\": {\"frequency\": 2, \"value\": 146.0}, \"148.0\": {\"frequency\": 1, \"value\": 148.0}, \"150.0\": {\"frequency\": 17, \"value\": 150.0}, \"152.0\": {\"frequency\": 4, \"value\": 152.0}, \"154.0\": {\"frequency\": 1, \"value\": 154.0}, \"155.0\": {\"frequency\": 1, \"value\": 155.0}, \"156.0\": {\"frequency\": 1, \"value\": 156.0}, \"158.0\": {\"frequency\": 1, \"value\": 158.0}, \"160.0\": {\"frequency\": 11, \"value\": 160.0}, \"165.0\": {\"frequency\": 1, \"value\": 165.0}, \"170.0\": {\"frequency\": 3, \"value\": 170.0}, \"172.0\": {\"frequency\": 1, \"value\": 172.0}, \"174.0\": {\"frequency\": 1, \"value\": 174.0}, \"178.0\": {\"frequency\": 2, \"value\": 178.0}, \"180.0\": {\"frequency\": 3, \"value\": 180.0}, \"192.0\": {\"frequency\": 1, \"value\": 192.0}, \"200.0\": {\"frequency\": 1, \"value\": 200.0}, \"94.0\": {\"frequency\": 2, \"value\": 94.0}, \"100.0\": {\"frequency\": 4, \"value\": 100.0}, \"101.0\": {\"frequency\": 1, \"value\": 101.0}, \"102.0\": {\"frequency\": 2, \"value\": 102.0}, \"104.0\": {\"frequency\": 1, \"value\": 104.0}, \"105.0\": {\"frequency\": 3, \"value\": 105.0}, \"106.0\": {\"frequency\": 1, \"value\": 106.0}, \"108.0\": {\"frequency\": 6, \"value\": 108.0}, \"110.0\": {\"frequency\": 18, \"value\": 110.0}, \"112.0\": {\"frequency\": 9, \"value\": 112.0}, \"115.0\": {\"frequency\": 3, \"value\": 115.0}, \"117.0\": {\"frequency\": 1, \"value\": 117.0}, \"118.0\": {\"frequency\": 7, \"value\": 118.0}, \"120.0\": {\"frequency\": 34, \"value\": 120.0}, \"122.0\": {\"frequency\": 4, \"value\": 122.0}, \"123.0\": {\"frequency\": 1, \"value\": 123.0}, \"124.0\": {\"frequency\": 5, \"value\": 124.0}, \"125.0\": {\"frequency\": 10, \"value\": 125.0}, \"126.0\": {\"frequency\": 3, \"value\": 126.0}}, \"mean\": 131.49290780141848}, \"chol\": {\"std\": 51.28245959330086, \"complete\": true, \"min\": 126.0, \"max\": 564.0, \"quantile\": [126.0, 149.0, 164.0, 168.0, 175.0, 177.0, 178.0, 183.0, 186.0, 192.0, 195.0, 197.0, 197.0, 198.0, 199.0, 201.0, 203.0, 204.0, 204.0, 205.0, 206.0, 208.0, 209.0, 211.0, 211.0, 212.0, 213.0, 215.0, 216.0, 218.0, 219.0, 221.0, 223.0, 225.0, 226.0, 227.0, 228.0, 229.0, 230.0, 231.0, 232.0, 233.0, 234.0, 234.0, 235.0, 236.0, 239.0, 240.0, 242.0, 243.0, 244.0, 245.0, 246.0, 247.0, 249.0, 250.0, 250.0, 253.0, 254.0, 255.0, 256.0, 258.0, 258.0, 260.0, 262.0, 263.0, 265.0, 266.0, 268.0, 269.0, 269.0, 271.0, 273.0, 274.0, 275.0, 277.0, 282.0, 282.0, 283.0, 286.0, 288.0, 289.0, 294.0, 295.0, 298.0, 300.0, 303.0, 304.0, 305.0, 307.0, 309.0, 311.0, 315.0, 321.0, 325.0, 327.0, 335.0, 341.0, 360.0, 409.0, 564.0], \"median\": 244.0, \"numeric\": true, \"num_unique\": 145, \"num_undefined\": 0, \"var\": 2629.8906619385352, \"progress\": 1.0, \"size\": 282, \"frequent_items\": {\"564.0\": {\"frequency\": 1, \"value\": 564.0}, \"126.0\": {\"frequency\": 1, \"value\": 126.0}, \"141.0\": {\"frequency\": 1, \"value\": 141.0}, \"149.0\": {\"frequency\": 2, \"value\": 149.0}, \"160.0\": {\"frequency\": 1, \"value\": 160.0}, \"164.0\": {\"frequency\": 1, \"value\": 164.0}, \"166.0\": {\"frequency\": 1, \"value\": 166.0}, \"167.0\": {\"frequency\": 1, \"value\": 167.0}, \"168.0\": {\"frequency\": 1, \"value\": 168.0}, \"172.0\": {\"frequency\": 1, \"value\": 172.0}, \"174.0\": {\"frequency\": 1, \"value\": 174.0}, \"175.0\": {\"frequency\": 1, \"value\": 175.0}, \"177.0\": {\"frequency\": 4, \"value\": 177.0}, \"178.0\": {\"frequency\": 1, \"value\": 178.0}, \"180.0\": {\"frequency\": 1, \"value\": 180.0}, \"182.0\": {\"frequency\": 1, \"value\": 182.0}, \"183.0\": {\"frequency\": 1, \"value\": 183.0}, \"184.0\": {\"frequency\": 1, \"value\": 184.0}, \"185.0\": {\"frequency\": 1, \"value\": 185.0}, \"186.0\": {\"frequency\": 1, \"value\": 186.0}, \"188.0\": {\"frequency\": 2, \"value\": 188.0}, \"192.0\": {\"frequency\": 2, \"value\": 192.0}, \"193.0\": {\"frequency\": 1, \"value\": 193.0}, \"195.0\": {\"frequency\": 1, \"value\": 195.0}, \"196.0\": {\"frequency\": 2, \"value\": 196.0}, \"197.0\": {\"frequency\": 5, \"value\": 197.0}, \"198.0\": {\"frequency\": 2, \"value\": 198.0}, \"199.0\": {\"frequency\": 3, \"value\": 199.0}, \"200.0\": {\"frequency\": 1, \"value\": 200.0}, \"201.0\": {\"frequency\": 3, \"value\": 201.0}, \"203.0\": {\"frequency\": 2, \"value\": 203.0}, \"204.0\": {\"frequency\": 6, \"value\": 204.0}, \"205.0\": {\"frequency\": 2, \"value\": 205.0}, \"206.0\": {\"frequency\": 2, \"value\": 206.0}, \"207.0\": {\"frequency\": 2, \"value\": 207.0}, \"208.0\": {\"frequency\": 2, \"value\": 208.0}, \"209.0\": {\"frequency\": 2, \"value\": 209.0}, \"210.0\": {\"frequency\": 1, \"value\": 210.0}, \"211.0\": {\"frequency\": 4, \"value\": 211.0}, \"212.0\": {\"frequency\": 4, \"value\": 212.0}, \"213.0\": {\"frequency\": 2, \"value\": 213.0}, \"214.0\": {\"frequency\": 2, \"value\": 214.0}, \"215.0\": {\"frequency\": 1, \"value\": 215.0}, \"216.0\": {\"frequency\": 2, \"value\": 216.0}, \"217.0\": {\"frequency\": 1, \"value\": 217.0}, \"218.0\": {\"frequency\": 2, \"value\": 218.0}, \"219.0\": {\"frequency\": 3, \"value\": 219.0}, \"220.0\": {\"frequency\": 2, \"value\": 220.0}, \"221.0\": {\"frequency\": 1, \"value\": 221.0}, \"222.0\": {\"frequency\": 2, \"value\": 222.0}, \"223.0\": {\"frequency\": 2, \"value\": 223.0}, \"224.0\": {\"frequency\": 1, \"value\": 224.0}, \"225.0\": {\"frequency\": 1, \"value\": 225.0}, \"226.0\": {\"frequency\": 4, \"value\": 226.0}, \"227.0\": {\"frequency\": 2, \"value\": 227.0}, \"228.0\": {\"frequency\": 2, \"value\": 228.0}, \"229.0\": {\"frequency\": 3, \"value\": 229.0}, \"230.0\": {\"frequency\": 3, \"value\": 230.0}, \"231.0\": {\"frequency\": 3, \"value\": 231.0}, \"232.0\": {\"frequency\": 2, \"value\": 232.0}, \"233.0\": {\"frequency\": 4, \"value\": 233.0}, \"234.0\": {\"frequency\": 6, \"value\": 234.0}, \"235.0\": {\"frequency\": 2, \"value\": 235.0}, \"236.0\": {\"frequency\": 2, \"value\": 236.0}, \"237.0\": {\"frequency\": 1, \"value\": 237.0}, \"239.0\": {\"frequency\": 4, \"value\": 239.0}, \"240.0\": {\"frequency\": 3, \"value\": 240.0}, \"242.0\": {\"frequency\": 1, \"value\": 242.0}, \"243.0\": {\"frequency\": 4, \"value\": 243.0}, \"244.0\": {\"frequency\": 3, \"value\": 244.0}, \"245.0\": {\"frequency\": 3, \"value\": 245.0}, \"246.0\": {\"frequency\": 3, \"value\": 246.0}, \"247.0\": {\"frequency\": 1, \"value\": 247.0}, \"248.0\": {\"frequency\": 2, \"value\": 248.0}, \"249.0\": {\"frequency\": 3, \"value\": 249.0}, \"250.0\": {\"frequency\": 3, \"value\": 250.0}, \"252.0\": {\"frequency\": 1, \"value\": 252.0}, \"253.0\": {\"frequency\": 2, \"value\": 253.0}, \"254.0\": {\"frequency\": 5, \"value\": 254.0}, \"255.0\": {\"frequency\": 2, \"value\": 255.0}, \"256.0\": {\"frequency\": 3, \"value\": 256.0}, \"257.0\": {\"frequency\": 1, \"value\": 257.0}, \"258.0\": {\"frequency\": 3, \"value\": 258.0}, \"259.0\": {\"frequency\": 1, \"value\": 259.0}, \"260.0\": {\"frequency\": 2, \"value\": 260.0}, \"261.0\": {\"frequency\": 2, \"value\": 261.0}, \"262.0\": {\"frequency\": 1, \"value\": 262.0}, \"263.0\": {\"frequency\": 3, \"value\": 263.0}, \"264.0\": {\"frequency\": 1, \"value\": 264.0}, \"265.0\": {\"frequency\": 2, \"value\": 265.0}, \"266.0\": {\"frequency\": 2, \"value\": 266.0}, \"267.0\": {\"frequency\": 2, \"value\": 267.0}, \"268.0\": {\"frequency\": 2, \"value\": 268.0}, \"269.0\": {\"frequency\": 5, \"value\": 269.0}, \"270.0\": {\"frequency\": 2, \"value\": 270.0}, \"271.0\": {\"frequency\": 2, \"value\": 271.0}, \"273.0\": {\"frequency\": 2, \"value\": 273.0}, \"274.0\": {\"frequency\": 3, \"value\": 274.0}, \"275.0\": {\"frequency\": 2, \"value\": 275.0}, \"276.0\": {\"frequency\": 1, \"value\": 276.0}, \"277.0\": {\"frequency\": 2, \"value\": 277.0}, \"278.0\": {\"frequency\": 1, \"value\": 278.0}, \"281.0\": {\"frequency\": 1, \"value\": 281.0}, \"282.0\": {\"frequency\": 4, \"value\": 282.0}, \"283.0\": {\"frequency\": 3, \"value\": 283.0}, \"284.0\": {\"frequency\": 1, \"value\": 284.0}, \"286.0\": {\"frequency\": 2, \"value\": 286.0}, \"288.0\": {\"frequency\": 3, \"value\": 288.0}, \"289.0\": {\"frequency\": 2, \"value\": 289.0}, \"290.0\": {\"frequency\": 1, \"value\": 290.0}, \"293.0\": {\"frequency\": 1, \"value\": 293.0}, \"294.0\": {\"frequency\": 2, \"value\": 294.0}, \"295.0\": {\"frequency\": 2, \"value\": 295.0}, \"298.0\": {\"frequency\": 2, \"value\": 298.0}, \"299.0\": {\"frequency\": 2, \"value\": 299.0}, \"300.0\": {\"frequency\": 1, \"value\": 300.0}, \"302.0\": {\"frequency\": 2, \"value\": 302.0}, \"303.0\": {\"frequency\": 3, \"value\": 303.0}, \"304.0\": {\"frequency\": 2, \"value\": 304.0}, \"305.0\": {\"frequency\": 2, \"value\": 305.0}, \"306.0\": {\"frequency\": 1, \"value\": 306.0}, \"307.0\": {\"frequency\": 1, \"value\": 307.0}, \"308.0\": {\"frequency\": 2, \"value\": 308.0}, \"309.0\": {\"frequency\": 3, \"value\": 309.0}, \"311.0\": {\"frequency\": 1, \"value\": 311.0}, \"313.0\": {\"frequency\": 1, \"value\": 313.0}, \"315.0\": {\"frequency\": 2, \"value\": 315.0}, \"318.0\": {\"frequency\": 1, \"value\": 318.0}, \"319.0\": {\"frequency\": 1, \"value\": 319.0}, \"321.0\": {\"frequency\": 1, \"value\": 321.0}, \"322.0\": {\"frequency\": 1, \"value\": 322.0}, \"325.0\": {\"frequency\": 2, \"value\": 325.0}, \"326.0\": {\"frequency\": 1, \"value\": 326.0}, \"327.0\": {\"frequency\": 1, \"value\": 327.0}, \"330.0\": {\"frequency\": 2, \"value\": 330.0}, \"335.0\": {\"frequency\": 2, \"value\": 335.0}, \"340.0\": {\"frequency\": 1, \"value\": 340.0}, \"341.0\": {\"frequency\": 1, \"value\": 341.0}, \"353.0\": {\"frequency\": 1, \"value\": 353.0}, \"354.0\": {\"frequency\": 1, \"value\": 354.0}, \"360.0\": {\"frequency\": 1, \"value\": 360.0}, \"394.0\": {\"frequency\": 1, \"value\": 394.0}, \"407.0\": {\"frequency\": 1, \"value\": 407.0}, \"409.0\": {\"frequency\": 1, \"value\": 409.0}, \"417.0\": {\"frequency\": 1, \"value\": 417.0}}, \"mean\": 248.83333333333337}, \"sex\": {\"std\": 0.46883670584506126, \"complete\": true, \"min\": 0.0, \"max\": 1.0, \"quantile\": [0.0, 0.0, 0.0, 0.0, 0.0, 0.0, 0.0, 0.0, 0.0, 0.0, 0.0, 0.0, 0.0, 0.0, 0.0, 0.0, 0.0, 0.0, 0.0, 0.0, 0.0, 0.0, 0.0, 0.0, 0.0, 0.0, 0.0, 0.0, 0.0, 0.0, 0.0, 0.0, 0.0, 1.0, 1.0, 1.0, 1.0, 1.0, 1.0, 1.0, 1.0, 1.0, 1.0, 1.0, 1.0, 1.0, 1.0, 1.0, 1.0, 1.0, 1.0, 1.0, 1.0, 1.0, 1.0, 1.0, 1.0, 1.0, 1.0, 1.0, 1.0, 1.0, 1.0, 1.0, 1.0, 1.0, 1.0, 1.0, 1.0, 1.0, 1.0, 1.0, 1.0, 1.0, 1.0, 1.0, 1.0, 1.0, 1.0, 1.0, 1.0, 1.0, 1.0, 1.0, 1.0, 1.0, 1.0, 1.0, 1.0, 1.0, 1.0, 1.0, 1.0, 1.0, 1.0, 1.0, 1.0, 1.0, 1.0, 1.0, 1.0], \"median\": 1.0, \"numeric\": true, \"num_unique\": 2, \"num_undefined\": 0, \"var\": 0.21980785674764852, \"progress\": 1.0, \"size\": 282, \"frequent_items\": {\"0.0\": {\"frequency\": 92, \"value\": 0.0}, \"1.0\": {\"frequency\": 190, \"value\": 1.0}}, \"mean\": 0.6737588652482268}, \"oldpeak\": {\"std\": 1.1369206334366828, \"complete\": true, \"min\": 0.0, \"max\": 6.2, \"quantile\": [0.0, 0.0, 0.0, 0.0, 0.0, 0.0, 0.0, 0.0, 0.0, 0.0, 0.0, 0.0, 0.0, 0.0, 0.0, 0.0, 0.0, 0.0, 0.0, 0.0, 0.0, 0.0, 0.0, 0.0, 0.0, 0.0, 0.0, 0.0, 0.0, 0.0, 0.0, 0.0, 0.0, 0.1, 0.1, 0.2, 0.2, 0.2, 0.2, 0.3, 0.4, 0.4, 0.4, 0.5, 0.6, 0.6, 0.6, 0.6, 0.6, 0.7, 0.8, 0.8, 0.8, 0.8, 0.9, 1.0, 1.0, 1.0, 1.0, 1.0, 1.2, 1.2, 1.2, 1.2, 1.2, 1.3, 1.4, 1.4, 1.4, 1.4, 1.5, 1.5, 1.6, 1.6, 1.6, 1.6, 1.8, 1.8, 1.8, 1.8, 1.9, 2.0, 2.0, 2.0, 2.0, 2.2, 2.3, 2.4, 2.5, 2.6, 2.6, 2.8, 2.9, 3.0, 3.1, 3.2, 3.5, 3.6, 4.0, 4.2, 6.2], \"median\": 0.8, \"numeric\": true, \"num_unique\": 39, \"num_undefined\": 0, \"var\": 1.292588526734068, \"progress\": 1.0, \"size\": 282, \"frequent_items\": {\"1.5\": {\"frequency\": 5, \"value\": 1.5}, \"3.5\": {\"frequency\": 1, \"value\": 3.5}, \"2.0\": {\"frequency\": 9, \"value\": 2.0}, \"3.0\": {\"frequency\": 5, \"value\": 3.0}, \"2.4\": {\"frequency\": 3, \"value\": 2.4}, \"2.5\": {\"frequency\": 2, \"value\": 2.5}, \"1.0\": {\"frequency\": 13, \"value\": 1.0}, \"1.1\": {\"frequency\": 2, \"value\": 1.1}, \"3.4\": {\"frequency\": 2, \"value\": 3.4}, \"3.6\": {\"frequency\": 4, \"value\": 3.6}, \"1.4\": {\"frequency\": 13, \"value\": 1.4}, \"0.7\": {\"frequency\": 1, \"value\": 0.7}, \"5.6\": {\"frequency\": 1, \"value\": 5.6}, \"0.0\": {\"frequency\": 91, \"value\": 0.0}, \"0.5\": {\"frequency\": 5, \"value\": 0.5}, \"3.8\": {\"frequency\": 1, \"value\": 3.8}, \"4.2\": {\"frequency\": 2, \"value\": 4.2}, \"2.2\": {\"frequency\": 4, \"value\": 2.2}, \"2.3\": {\"frequency\": 2, \"value\": 2.3}, \"0.9\": {\"frequency\": 3, \"value\": 0.9}, \"0.3\": {\"frequency\": 3, \"value\": 0.3}, \"6.2\": {\"frequency\": 1, \"value\": 6.2}, \"1.8\": {\"frequency\": 10, \"value\": 1.8}, \"2.9\": {\"frequency\": 1, \"value\": 2.9}, \"0.6\": {\"frequency\": 14, \"value\": 0.6}, \"0.4\": {\"frequency\": 8, \"value\": 0.4}, \"0.1\": {\"frequency\": 6, \"value\": 0.1}, \"1.9\": {\"frequency\": 5, \"value\": 1.9}, \"1.3\": {\"frequency\": 1, \"value\": 1.3}, \"3.2\": {\"frequency\": 2, \"value\": 3.2}, \"1.6\": {\"frequency\": 11, \"value\": 1.6}, \"0.8\": {\"frequency\": 12, \"value\": 0.8}, \"3.1\": {\"frequency\": 1, \"value\": 3.1}, \"1.2\": {\"frequency\": 14, \"value\": 1.2}, \"2.6\": {\"frequency\": 6, \"value\": 2.6}, \"2.1\": {\"frequency\": 1, \"value\": 2.1}, \"2.8\": {\"frequency\": 4, \"value\": 2.8}, \"0.2\": {\"frequency\": 11, \"value\": 0.2}, \"4.0\": {\"frequency\": 2, \"value\": 4.0}}, \"mean\": 1.0336879432624115}, \"num\": {\"std\": 1.229018877003189, \"complete\": true, \"min\": 0.0, \"max\": 4.0, \"quantile\": [0.0, 0.0, 0.0, 0.0, 0.0, 0.0, 0.0, 0.0, 0.0, 0.0, 0.0, 0.0, 0.0, 0.0, 0.0, 0.0, 0.0, 0.0, 0.0, 0.0, 0.0, 0.0, 0.0, 0.0, 0.0, 0.0, 0.0, 0.0, 0.0, 0.0, 0.0, 0.0, 0.0, 0.0, 0.0, 0.0, 0.0, 0.0, 0.0, 0.0, 0.0, 0.0, 0.0, 0.0, 0.0, 0.0, 0.0, 0.0, 0.0, 0.0, 0.0, 0.0, 0.0, 0.0, 0.0, 0.0, 1.0, 1.0, 1.0, 1.0, 1.0, 1.0, 1.0, 1.0, 1.0, 1.0, 1.0, 1.0, 1.0, 1.0, 1.0, 1.0, 1.0, 1.0, 2.0, 2.0, 2.0, 2.0, 2.0, 2.0, 2.0, 2.0, 2.0, 2.0, 2.0, 3.0, 3.0, 3.0, 3.0, 3.0, 3.0, 3.0, 3.0, 3.0, 3.0, 3.0, 4.0, 4.0, 4.0, 4.0, 4.0], \"median\": 0.0, \"numeric\": true, \"num_unique\": 5, \"num_undefined\": 0, \"var\": 1.5104874000301796, \"progress\": 1.0, \"size\": 282, \"frequent_items\": {\"0\": {\"frequency\": 157, \"value\": 0}, \"1\": {\"frequency\": 49, \"value\": 1}, \"2\": {\"frequency\": 31, \"value\": 2}, \"3\": {\"frequency\": 33, \"value\": 3}, \"4\": {\"frequency\": 12, \"value\": 4}}, \"mean\": 0.9148936170212765}, \"thalach\": {\"std\": 22.926693349549303, \"complete\": true, \"min\": 71.0, \"max\": 202.0, \"quantile\": [71.0, 95.0, 97.0, 103.0, 105.0, 108.0, 109.0, 111.0, 113.0, 114.0, 116.0, 118.0, 120.0, 122.0, 122.0, 125.0, 125.0, 125.0, 126.0, 127.0, 130.0, 130.0, 131.0, 132.0, 132.0, 133.0, 136.0, 138.0, 139.0, 140.0, 140.0, 142.0, 142.0, 143.0, 143.0, 143.0, 144.0, 145.0, 146.0, 146.0, 147.0, 148.0, 149.0, 150.0, 150.0, 151.0, 151.0, 152.0, 152.0, 153.0, 154.0, 154.0, 155.0, 155.0, 156.0, 156.0, 157.0, 157.0, 158.0, 158.0, 159.0, 160.0, 160.0, 160.0, 161.0, 161.0, 162.0, 162.0, 162.0, 162.0, 163.0, 163.0, 163.0, 164.0, 165.0, 166.0, 168.0, 168.0, 169.0, 169.0, 170.0, 171.0, 171.0, 172.0, 172.0, 173.0, 173.0, 174.0, 174.0, 175.0, 178.0, 178.0, 179.0, 179.0, 181.0, 182.0, 182.0, 186.0, 188.0, 194.0, 202.0], \"median\": 154.0, \"numeric\": true, \"num_unique\": 90, \"num_undefined\": 0, \"var\": 525.6332679442683, \"progress\": 1.0, \"size\": 282, \"frequent_items\": {\"71.0\": {\"frequency\": 1, \"value\": 71.0}, \"88.0\": {\"frequency\": 1, \"value\": 88.0}, \"95.0\": {\"frequency\": 1, \"value\": 95.0}, \"96.0\": {\"frequency\": 2, \"value\": 96.0}, \"97.0\": {\"frequency\": 1, \"value\": 97.0}, \"99.0\": {\"frequency\": 1, \"value\": 99.0}, \"103.0\": {\"frequency\": 2, \"value\": 103.0}, \"105.0\": {\"frequency\": 3, \"value\": 105.0}, \"106.0\": {\"frequency\": 1, \"value\": 106.0}, \"108.0\": {\"frequency\": 2, \"value\": 108.0}, \"109.0\": {\"frequency\": 2, \"value\": 109.0}, \"111.0\": {\"frequency\": 3, \"value\": 111.0}, \"112.0\": {\"frequency\": 2, \"value\": 112.0}, \"113.0\": {\"frequency\": 1, \"value\": 113.0}, \"114.0\": {\"frequency\": 3, \"value\": 114.0}, \"115.0\": {\"frequency\": 2, \"value\": 115.0}, \"116.0\": {\"frequency\": 2, \"value\": 116.0}, \"117.0\": {\"frequency\": 1, \"value\": 117.0}, \"118.0\": {\"frequency\": 1, \"value\": 118.0}, \"120.0\": {\"frequency\": 3, \"value\": 120.0}, \"121.0\": {\"frequency\": 1, \"value\": 121.0}, \"122.0\": {\"frequency\": 4, \"value\": 122.0}, \"123.0\": {\"frequency\": 1, \"value\": 123.0}, \"124.0\": {\"frequency\": 1, \"value\": 124.0}, \"125.0\": {\"frequency\": 7, \"value\": 125.0}, \"126.0\": {\"frequency\": 4, \"value\": 126.0}, \"127.0\": {\"frequency\": 1, \"value\": 127.0}, \"128.0\": {\"frequency\": 1, \"value\": 128.0}, \"129.0\": {\"frequency\": 1, \"value\": 129.0}, \"130.0\": {\"frequency\": 4, \"value\": 130.0}, \"131.0\": {\"frequency\": 4, \"value\": 131.0}, \"132.0\": {\"frequency\": 6, \"value\": 132.0}, \"133.0\": {\"frequency\": 2, \"value\": 133.0}, \"134.0\": {\"frequency\": 1, \"value\": 134.0}, \"136.0\": {\"frequency\": 1, \"value\": 136.0}, \"137.0\": {\"frequency\": 1, \"value\": 137.0}, \"138.0\": {\"frequency\": 3, \"value\": 138.0}, \"139.0\": {\"frequency\": 2, \"value\": 139.0}, \"140.0\": {\"frequency\": 5, \"value\": 140.0}, \"141.0\": {\"frequency\": 2, \"value\": 141.0}, \"142.0\": {\"frequency\": 6, \"value\": 142.0}, \"143.0\": {\"frequency\": 6, \"value\": 143.0}, \"144.0\": {\"frequency\": 4, \"value\": 144.0}, \"145.0\": {\"frequency\": 4, \"value\": 145.0}, \"146.0\": {\"frequency\": 3, \"value\": 146.0}, \"147.0\": {\"frequency\": 5, \"value\": 147.0}, \"148.0\": {\"frequency\": 3, \"value\": 148.0}, \"149.0\": {\"frequency\": 2, \"value\": 149.0}, \"150.0\": {\"frequency\": 6, \"value\": 150.0}, \"151.0\": {\"frequency\": 4, \"value\": 151.0}, \"152.0\": {\"frequency\": 8, \"value\": 152.0}, \"153.0\": {\"frequency\": 3, \"value\": 153.0}, \"154.0\": {\"frequency\": 5, \"value\": 154.0}, \"155.0\": {\"frequency\": 4, \"value\": 155.0}, \"156.0\": {\"frequency\": 6, \"value\": 156.0}, \"157.0\": {\"frequency\": 5, \"value\": 157.0}, \"158.0\": {\"frequency\": 6, \"value\": 158.0}, \"159.0\": {\"frequency\": 4, \"value\": 159.0}, \"160.0\": {\"frequency\": 9, \"value\": 160.0}, \"161.0\": {\"frequency\": 5, \"value\": 161.0}, \"162.0\": {\"frequency\": 11, \"value\": 162.0}, \"163.0\": {\"frequency\": 8, \"value\": 163.0}, \"164.0\": {\"frequency\": 2, \"value\": 164.0}, \"165.0\": {\"frequency\": 5, \"value\": 165.0}, \"166.0\": {\"frequency\": 2, \"value\": 166.0}, \"167.0\": {\"frequency\": 1, \"value\": 167.0}, \"168.0\": {\"frequency\": 5, \"value\": 168.0}, \"169.0\": {\"frequency\": 4, \"value\": 169.0}, \"170.0\": {\"frequency\": 5, \"value\": 170.0}, \"171.0\": {\"frequency\": 4, \"value\": 171.0}, \"172.0\": {\"frequency\": 7, \"value\": 172.0}, \"173.0\": {\"frequency\": 6, \"value\": 173.0}, \"174.0\": {\"frequency\": 4, \"value\": 174.0}, \"175.0\": {\"frequency\": 3, \"value\": 175.0}, \"177.0\": {\"frequency\": 1, \"value\": 177.0}, \"178.0\": {\"frequency\": 5, \"value\": 178.0}, \"179.0\": {\"frequency\": 5, \"value\": 179.0}, \"180.0\": {\"frequency\": 2, \"value\": 180.0}, \"181.0\": {\"frequency\": 2, \"value\": 181.0}, \"182.0\": {\"frequency\": 4, \"value\": 182.0}, \"184.0\": {\"frequency\": 1, \"value\": 184.0}, \"185.0\": {\"frequency\": 1, \"value\": 185.0}, \"186.0\": {\"frequency\": 2, \"value\": 186.0}, \"187.0\": {\"frequency\": 1, \"value\": 187.0}, \"188.0\": {\"frequency\": 1, \"value\": 188.0}, \"190.0\": {\"frequency\": 1, \"value\": 190.0}, \"192.0\": {\"frequency\": 1, \"value\": 192.0}, \"194.0\": {\"frequency\": 1, \"value\": 194.0}, \"195.0\": {\"frequency\": 1, \"value\": 195.0}, \"202.0\": {\"frequency\": 1, \"value\": 202.0}}, \"mean\": 149.73758865248226}, \"cp\": {\"std\": 0.9561654151830075, \"complete\": true, \"min\": 1.0, \"max\": 4.0, \"quantile\": [1.0, 1.0, 1.0, 1.0, 1.0, 1.0, 1.0, 1.0, 2.0, 2.0, 2.0, 2.0, 2.0, 2.0, 2.0, 2.0, 2.0, 2.0, 2.0, 2.0, 2.0, 2.0, 2.0, 2.0, 3.0, 3.0, 3.0, 3.0, 3.0, 3.0, 3.0, 3.0, 3.0, 3.0, 3.0, 3.0, 3.0, 3.0, 3.0, 3.0, 3.0, 3.0, 3.0, 3.0, 3.0, 3.0, 3.0, 3.0, 3.0, 3.0, 3.0, 3.0, 3.0, 4.0, 4.0, 4.0, 4.0, 4.0, 4.0, 4.0, 4.0, 4.0, 4.0, 4.0, 4.0, 4.0, 4.0, 4.0, 4.0, 4.0, 4.0, 4.0, 4.0, 4.0, 4.0, 4.0, 4.0, 4.0, 4.0, 4.0, 4.0, 4.0, 4.0, 4.0, 4.0, 4.0, 4.0, 4.0, 4.0, 4.0, 4.0, 4.0, 4.0, 4.0, 4.0, 4.0, 4.0, 4.0, 4.0, 4.0, 4.0], \"median\": 3.0, \"numeric\": true, \"num_unique\": 4, \"num_undefined\": 0, \"var\": 0.914252301192093, \"progress\": 1.0, \"size\": 282, \"frequent_items\": {\"1.0\": {\"frequency\": 22, \"value\": 1.0}, \"2.0\": {\"frequency\": 44, \"value\": 2.0}, \"3.0\": {\"frequency\": 83, \"value\": 3.0}, \"4.0\": {\"frequency\": 133, \"value\": 4.0}}, \"mean\": 3.159574468085106}, \"ca\": {\"std\": 0.9320846267485343, \"complete\": true, \"min\": 0.0, \"max\": 3.0, \"quantile\": [0.0, 0.0, 0.0, 0.0, 0.0, 0.0, 0.0, 0.0, 0.0, 0.0, 0.0, 0.0, 0.0, 0.0, 0.0, 0.0, 0.0, 0.0, 0.0, 0.0, 0.0, 0.0, 0.0, 0.0, 0.0, 0.0, 0.0, 0.0, 0.0, 0.0, 0.0, 0.0, 0.0, 0.0, 0.0, 0.0, 0.0, 0.0, 0.0, 0.0, 0.0, 0.0, 0.0, 0.0, 0.0, 0.0, 0.0, 0.0, 0.0, 0.0, 0.0, 0.0, 0.0, 0.0, 0.0, 0.0, 0.0, 0.0, 0.0, 0.0, 1.0, 1.0, 1.0, 1.0, 1.0, 1.0, 1.0, 1.0, 1.0, 1.0, 1.0, 1.0, 1.0, 1.0, 1.0, 1.0, 1.0, 1.0, 1.0, 1.0, 1.0, 1.0, 2.0, 2.0, 2.0, 2.0, 2.0, 2.0, 2.0, 2.0, 2.0, 2.0, 2.0, 2.0, 3.0, 3.0, 3.0, 3.0, 3.0, 3.0, 3.0], \"median\": 0.0, \"numeric\": true, \"num_unique\": 4, \"num_undefined\": 0, \"var\": 0.8687817514209546, \"progress\": 1.0, \"size\": 282, \"frequent_items\": {\"0.0\": {\"frequency\": 167, \"value\": 0.0}, \"1.0\": {\"frequency\": 62, \"value\": 1.0}, \"2.0\": {\"frequency\": 34, \"value\": 2.0}, \"3.0\": {\"frequency\": 19, \"value\": 3.0}}, \"mean\": 0.6631205673758866}, \"thal\": {\"complete\": true, \"numeric\": false, \"num_unique\": 4, \"num_undefined\": 0, \"progress\": 1.0, \"frequent_items\": {\"7.0\": {\"frequency\": 107, \"value\": \"7.0\"}, \"?\": {\"frequency\": 2, \"value\": \"?\"}, \"3.0\": {\"frequency\": 159, \"value\": \"3.0\"}, \"6.0\": {\"frequency\": 14, \"value\": \"6.0\"}}, \"size\": 282}}, \"selected_variable\": {\"name\": [\"trainingData\"], \"descriptives\": {\"rows\": 282, \"columns\": 14}, \"view_component\": \"Summary\", \"view_file\": \"sframe\", \"view_params\": {\"y\": null, \"x\": null, \"columns\": [\"age\", \"sex\", \"cp\", \"trestpbs\", \"chol\", \"fbs\", \"restecg\", \"thalach\", \"exang\", \"oldpeak\", \"slope\", \"ca\", \"thal\", \"num\"], \"view\": null}, \"view_components\": [\"Summary\", \"Table\", \"Bar Chart\", \"BoxWhisker Plot\", \"Line Chart\", \"Scatter Plot\", \"Heat Map\", \"Plots\"], \"type\": \"SFrame\", \"columns\": [{\"dtype\": \"float\", \"name\": \"age\"}, {\"dtype\": \"float\", \"name\": \"sex\"}, {\"dtype\": \"float\", \"name\": \"cp\"}, {\"dtype\": \"float\", \"name\": \"trestpbs\"}, {\"dtype\": \"float\", \"name\": \"chol\"}, {\"dtype\": \"float\", \"name\": \"fbs\"}, {\"dtype\": \"float\", \"name\": \"restecg\"}, {\"dtype\": \"float\", \"name\": \"thalach\"}, {\"dtype\": \"float\", \"name\": \"exang\"}, {\"dtype\": \"float\", \"name\": \"oldpeak\"}, {\"dtype\": \"float\", \"name\": \"slope\"}, {\"dtype\": \"float\", \"name\": \"ca\"}, {\"dtype\": \"str\", \"name\": \"thal\"}, {\"dtype\": \"int\", \"name\": \"num\"}], \"column_identifiers\": [\"fbs\", \"slope\", \"exang\", \"restecg\", \"age\", \"trestpbs\", \"chol\", \"sex\", \"oldpeak\", \"num\", \"thalach\", \"cp\", \"ca\", \"thal\"]}, \"columns\": [{\"dtype\": \"float\", \"name\": \"age\"}, {\"dtype\": \"float\", \"name\": \"sex\"}, {\"dtype\": \"float\", \"name\": \"cp\"}, {\"dtype\": \"float\", \"name\": \"trestpbs\"}, {\"dtype\": \"float\", \"name\": \"chol\"}, {\"dtype\": \"float\", \"name\": \"fbs\"}, {\"dtype\": \"float\", \"name\": \"restecg\"}, {\"dtype\": \"float\", \"name\": \"thalach\"}, {\"dtype\": \"float\", \"name\": \"exang\"}, {\"dtype\": \"float\", \"name\": \"oldpeak\"}, {\"dtype\": \"float\", \"name\": \"slope\"}, {\"dtype\": \"float\", \"name\": \"ca\"}, {\"dtype\": \"str\", \"name\": \"thal\"}, {\"dtype\": \"int\", \"name\": \"num\"}]}, e);\n",
       "                });\n",
       "            })();\n",
       "        "
      ]
     },
     "metadata": {},
     "output_type": "display_data"
    }
   ],
   "source": [
    "trainingData.show()"
   ]
  },
  {
   "cell_type": "code",
   "execution_count": 7,
   "metadata": {
    "collapsed": false
   },
   "outputs": [
    {
     "name": "stdout",
     "output_type": "stream",
     "text": [
      "Canvas is updated and available in a tab in the default browser.\n"
     ]
    }
   ],
   "source": [
    "testingData.show()"
   ]
  },
  {
   "cell_type": "code",
   "execution_count": 8,
   "metadata": {
    "collapsed": true
   },
   "outputs": [],
   "source": [
    "gl.canvas.set_target('ipynb')"
   ]
  },
  {
   "cell_type": "code",
   "execution_count": 9,
   "metadata": {
    "collapsed": false,
    "scrolled": true
   },
   "outputs": [
    {
     "data": {
      "text/html": [
       "<div style=\"max-height:1000px;max-width:1500px;overflow:auto;\"><table frame=\"box\" rules=\"cols\">\n",
       "    <tr>\n",
       "        <th style=\"padding-left: 1em; padding-right: 1em; text-align: center\">age</th>\n",
       "        <th style=\"padding-left: 1em; padding-right: 1em; text-align: center\">sex</th>\n",
       "        <th style=\"padding-left: 1em; padding-right: 1em; text-align: center\">cp</th>\n",
       "        <th style=\"padding-left: 1em; padding-right: 1em; text-align: center\">trestpbs</th>\n",
       "        <th style=\"padding-left: 1em; padding-right: 1em; text-align: center\">chol</th>\n",
       "        <th style=\"padding-left: 1em; padding-right: 1em; text-align: center\">fbs</th>\n",
       "        <th style=\"padding-left: 1em; padding-right: 1em; text-align: center\">restecg</th>\n",
       "        <th style=\"padding-left: 1em; padding-right: 1em; text-align: center\">thalach</th>\n",
       "        <th style=\"padding-left: 1em; padding-right: 1em; text-align: center\">exang</th>\n",
       "        <th style=\"padding-left: 1em; padding-right: 1em; text-align: center\">oldpeak</th>\n",
       "        <th style=\"padding-left: 1em; padding-right: 1em; text-align: center\">slope</th>\n",
       "        <th style=\"padding-left: 1em; padding-right: 1em; text-align: center\">ca</th>\n",
       "        <th style=\"padding-left: 1em; padding-right: 1em; text-align: center\">thal</th>\n",
       "        <th style=\"padding-left: 1em; padding-right: 1em; text-align: center\">num</th>\n",
       "    </tr>\n",
       "    <tr>\n",
       "        <td style=\"padding-left: 1em; padding-right: 1em; text-align: center; vertical-align: top\">63.0</td>\n",
       "        <td style=\"padding-left: 1em; padding-right: 1em; text-align: center; vertical-align: top\">1.0</td>\n",
       "        <td style=\"padding-left: 1em; padding-right: 1em; text-align: center; vertical-align: top\">1.0</td>\n",
       "        <td style=\"padding-left: 1em; padding-right: 1em; text-align: center; vertical-align: top\">145.0</td>\n",
       "        <td style=\"padding-left: 1em; padding-right: 1em; text-align: center; vertical-align: top\">233.0</td>\n",
       "        <td style=\"padding-left: 1em; padding-right: 1em; text-align: center; vertical-align: top\">1.0</td>\n",
       "        <td style=\"padding-left: 1em; padding-right: 1em; text-align: center; vertical-align: top\">2.0</td>\n",
       "        <td style=\"padding-left: 1em; padding-right: 1em; text-align: center; vertical-align: top\">150.0</td>\n",
       "        <td style=\"padding-left: 1em; padding-right: 1em; text-align: center; vertical-align: top\">0.0</td>\n",
       "        <td style=\"padding-left: 1em; padding-right: 1em; text-align: center; vertical-align: top\">2.3</td>\n",
       "        <td style=\"padding-left: 1em; padding-right: 1em; text-align: center; vertical-align: top\">3.0</td>\n",
       "        <td style=\"padding-left: 1em; padding-right: 1em; text-align: center; vertical-align: top\">0.0</td>\n",
       "        <td style=\"padding-left: 1em; padding-right: 1em; text-align: center; vertical-align: top\">6.0</td>\n",
       "        <td style=\"padding-left: 1em; padding-right: 1em; text-align: center; vertical-align: top\">0</td>\n",
       "    </tr>\n",
       "    <tr>\n",
       "        <td style=\"padding-left: 1em; padding-right: 1em; text-align: center; vertical-align: top\">67.0</td>\n",
       "        <td style=\"padding-left: 1em; padding-right: 1em; text-align: center; vertical-align: top\">1.0</td>\n",
       "        <td style=\"padding-left: 1em; padding-right: 1em; text-align: center; vertical-align: top\">4.0</td>\n",
       "        <td style=\"padding-left: 1em; padding-right: 1em; text-align: center; vertical-align: top\">160.0</td>\n",
       "        <td style=\"padding-left: 1em; padding-right: 1em; text-align: center; vertical-align: top\">286.0</td>\n",
       "        <td style=\"padding-left: 1em; padding-right: 1em; text-align: center; vertical-align: top\">0.0</td>\n",
       "        <td style=\"padding-left: 1em; padding-right: 1em; text-align: center; vertical-align: top\">2.0</td>\n",
       "        <td style=\"padding-left: 1em; padding-right: 1em; text-align: center; vertical-align: top\">108.0</td>\n",
       "        <td style=\"padding-left: 1em; padding-right: 1em; text-align: center; vertical-align: top\">1.0</td>\n",
       "        <td style=\"padding-left: 1em; padding-right: 1em; text-align: center; vertical-align: top\">1.5</td>\n",
       "        <td style=\"padding-left: 1em; padding-right: 1em; text-align: center; vertical-align: top\">2.0</td>\n",
       "        <td style=\"padding-left: 1em; padding-right: 1em; text-align: center; vertical-align: top\">3.0</td>\n",
       "        <td style=\"padding-left: 1em; padding-right: 1em; text-align: center; vertical-align: top\">3.0</td>\n",
       "        <td style=\"padding-left: 1em; padding-right: 1em; text-align: center; vertical-align: top\">2</td>\n",
       "    </tr>\n",
       "    <tr>\n",
       "        <td style=\"padding-left: 1em; padding-right: 1em; text-align: center; vertical-align: top\">67.0</td>\n",
       "        <td style=\"padding-left: 1em; padding-right: 1em; text-align: center; vertical-align: top\">1.0</td>\n",
       "        <td style=\"padding-left: 1em; padding-right: 1em; text-align: center; vertical-align: top\">4.0</td>\n",
       "        <td style=\"padding-left: 1em; padding-right: 1em; text-align: center; vertical-align: top\">120.0</td>\n",
       "        <td style=\"padding-left: 1em; padding-right: 1em; text-align: center; vertical-align: top\">229.0</td>\n",
       "        <td style=\"padding-left: 1em; padding-right: 1em; text-align: center; vertical-align: top\">0.0</td>\n",
       "        <td style=\"padding-left: 1em; padding-right: 1em; text-align: center; vertical-align: top\">2.0</td>\n",
       "        <td style=\"padding-left: 1em; padding-right: 1em; text-align: center; vertical-align: top\">129.0</td>\n",
       "        <td style=\"padding-left: 1em; padding-right: 1em; text-align: center; vertical-align: top\">1.0</td>\n",
       "        <td style=\"padding-left: 1em; padding-right: 1em; text-align: center; vertical-align: top\">2.6</td>\n",
       "        <td style=\"padding-left: 1em; padding-right: 1em; text-align: center; vertical-align: top\">2.0</td>\n",
       "        <td style=\"padding-left: 1em; padding-right: 1em; text-align: center; vertical-align: top\">2.0</td>\n",
       "        <td style=\"padding-left: 1em; padding-right: 1em; text-align: center; vertical-align: top\">7.0</td>\n",
       "        <td style=\"padding-left: 1em; padding-right: 1em; text-align: center; vertical-align: top\">1</td>\n",
       "    </tr>\n",
       "    <tr>\n",
       "        <td style=\"padding-left: 1em; padding-right: 1em; text-align: center; vertical-align: top\">37.0</td>\n",
       "        <td style=\"padding-left: 1em; padding-right: 1em; text-align: center; vertical-align: top\">1.0</td>\n",
       "        <td style=\"padding-left: 1em; padding-right: 1em; text-align: center; vertical-align: top\">3.0</td>\n",
       "        <td style=\"padding-left: 1em; padding-right: 1em; text-align: center; vertical-align: top\">130.0</td>\n",
       "        <td style=\"padding-left: 1em; padding-right: 1em; text-align: center; vertical-align: top\">250.0</td>\n",
       "        <td style=\"padding-left: 1em; padding-right: 1em; text-align: center; vertical-align: top\">0.0</td>\n",
       "        <td style=\"padding-left: 1em; padding-right: 1em; text-align: center; vertical-align: top\">0.0</td>\n",
       "        <td style=\"padding-left: 1em; padding-right: 1em; text-align: center; vertical-align: top\">187.0</td>\n",
       "        <td style=\"padding-left: 1em; padding-right: 1em; text-align: center; vertical-align: top\">0.0</td>\n",
       "        <td style=\"padding-left: 1em; padding-right: 1em; text-align: center; vertical-align: top\">3.5</td>\n",
       "        <td style=\"padding-left: 1em; padding-right: 1em; text-align: center; vertical-align: top\">3.0</td>\n",
       "        <td style=\"padding-left: 1em; padding-right: 1em; text-align: center; vertical-align: top\">0.0</td>\n",
       "        <td style=\"padding-left: 1em; padding-right: 1em; text-align: center; vertical-align: top\">3.0</td>\n",
       "        <td style=\"padding-left: 1em; padding-right: 1em; text-align: center; vertical-align: top\">0</td>\n",
       "    </tr>\n",
       "    <tr>\n",
       "        <td style=\"padding-left: 1em; padding-right: 1em; text-align: center; vertical-align: top\">41.0</td>\n",
       "        <td style=\"padding-left: 1em; padding-right: 1em; text-align: center; vertical-align: top\">0.0</td>\n",
       "        <td style=\"padding-left: 1em; padding-right: 1em; text-align: center; vertical-align: top\">2.0</td>\n",
       "        <td style=\"padding-left: 1em; padding-right: 1em; text-align: center; vertical-align: top\">130.0</td>\n",
       "        <td style=\"padding-left: 1em; padding-right: 1em; text-align: center; vertical-align: top\">204.0</td>\n",
       "        <td style=\"padding-left: 1em; padding-right: 1em; text-align: center; vertical-align: top\">0.0</td>\n",
       "        <td style=\"padding-left: 1em; padding-right: 1em; text-align: center; vertical-align: top\">2.0</td>\n",
       "        <td style=\"padding-left: 1em; padding-right: 1em; text-align: center; vertical-align: top\">172.0</td>\n",
       "        <td style=\"padding-left: 1em; padding-right: 1em; text-align: center; vertical-align: top\">0.0</td>\n",
       "        <td style=\"padding-left: 1em; padding-right: 1em; text-align: center; vertical-align: top\">1.4</td>\n",
       "        <td style=\"padding-left: 1em; padding-right: 1em; text-align: center; vertical-align: top\">1.0</td>\n",
       "        <td style=\"padding-left: 1em; padding-right: 1em; text-align: center; vertical-align: top\">0.0</td>\n",
       "        <td style=\"padding-left: 1em; padding-right: 1em; text-align: center; vertical-align: top\">3.0</td>\n",
       "        <td style=\"padding-left: 1em; padding-right: 1em; text-align: center; vertical-align: top\">0</td>\n",
       "    </tr>\n",
       "    <tr>\n",
       "        <td style=\"padding-left: 1em; padding-right: 1em; text-align: center; vertical-align: top\">56.0</td>\n",
       "        <td style=\"padding-left: 1em; padding-right: 1em; text-align: center; vertical-align: top\">1.0</td>\n",
       "        <td style=\"padding-left: 1em; padding-right: 1em; text-align: center; vertical-align: top\">2.0</td>\n",
       "        <td style=\"padding-left: 1em; padding-right: 1em; text-align: center; vertical-align: top\">120.0</td>\n",
       "        <td style=\"padding-left: 1em; padding-right: 1em; text-align: center; vertical-align: top\">236.0</td>\n",
       "        <td style=\"padding-left: 1em; padding-right: 1em; text-align: center; vertical-align: top\">0.0</td>\n",
       "        <td style=\"padding-left: 1em; padding-right: 1em; text-align: center; vertical-align: top\">0.0</td>\n",
       "        <td style=\"padding-left: 1em; padding-right: 1em; text-align: center; vertical-align: top\">178.0</td>\n",
       "        <td style=\"padding-left: 1em; padding-right: 1em; text-align: center; vertical-align: top\">0.0</td>\n",
       "        <td style=\"padding-left: 1em; padding-right: 1em; text-align: center; vertical-align: top\">0.8</td>\n",
       "        <td style=\"padding-left: 1em; padding-right: 1em; text-align: center; vertical-align: top\">1.0</td>\n",
       "        <td style=\"padding-left: 1em; padding-right: 1em; text-align: center; vertical-align: top\">0.0</td>\n",
       "        <td style=\"padding-left: 1em; padding-right: 1em; text-align: center; vertical-align: top\">3.0</td>\n",
       "        <td style=\"padding-left: 1em; padding-right: 1em; text-align: center; vertical-align: top\">0</td>\n",
       "    </tr>\n",
       "    <tr>\n",
       "        <td style=\"padding-left: 1em; padding-right: 1em; text-align: center; vertical-align: top\">62.0</td>\n",
       "        <td style=\"padding-left: 1em; padding-right: 1em; text-align: center; vertical-align: top\">0.0</td>\n",
       "        <td style=\"padding-left: 1em; padding-right: 1em; text-align: center; vertical-align: top\">4.0</td>\n",
       "        <td style=\"padding-left: 1em; padding-right: 1em; text-align: center; vertical-align: top\">140.0</td>\n",
       "        <td style=\"padding-left: 1em; padding-right: 1em; text-align: center; vertical-align: top\">268.0</td>\n",
       "        <td style=\"padding-left: 1em; padding-right: 1em; text-align: center; vertical-align: top\">0.0</td>\n",
       "        <td style=\"padding-left: 1em; padding-right: 1em; text-align: center; vertical-align: top\">2.0</td>\n",
       "        <td style=\"padding-left: 1em; padding-right: 1em; text-align: center; vertical-align: top\">160.0</td>\n",
       "        <td style=\"padding-left: 1em; padding-right: 1em; text-align: center; vertical-align: top\">0.0</td>\n",
       "        <td style=\"padding-left: 1em; padding-right: 1em; text-align: center; vertical-align: top\">3.6</td>\n",
       "        <td style=\"padding-left: 1em; padding-right: 1em; text-align: center; vertical-align: top\">3.0</td>\n",
       "        <td style=\"padding-left: 1em; padding-right: 1em; text-align: center; vertical-align: top\">2.0</td>\n",
       "        <td style=\"padding-left: 1em; padding-right: 1em; text-align: center; vertical-align: top\">3.0</td>\n",
       "        <td style=\"padding-left: 1em; padding-right: 1em; text-align: center; vertical-align: top\">3</td>\n",
       "    </tr>\n",
       "    <tr>\n",
       "        <td style=\"padding-left: 1em; padding-right: 1em; text-align: center; vertical-align: top\">57.0</td>\n",
       "        <td style=\"padding-left: 1em; padding-right: 1em; text-align: center; vertical-align: top\">0.0</td>\n",
       "        <td style=\"padding-left: 1em; padding-right: 1em; text-align: center; vertical-align: top\">4.0</td>\n",
       "        <td style=\"padding-left: 1em; padding-right: 1em; text-align: center; vertical-align: top\">120.0</td>\n",
       "        <td style=\"padding-left: 1em; padding-right: 1em; text-align: center; vertical-align: top\">354.0</td>\n",
       "        <td style=\"padding-left: 1em; padding-right: 1em; text-align: center; vertical-align: top\">0.0</td>\n",
       "        <td style=\"padding-left: 1em; padding-right: 1em; text-align: center; vertical-align: top\">0.0</td>\n",
       "        <td style=\"padding-left: 1em; padding-right: 1em; text-align: center; vertical-align: top\">163.0</td>\n",
       "        <td style=\"padding-left: 1em; padding-right: 1em; text-align: center; vertical-align: top\">1.0</td>\n",
       "        <td style=\"padding-left: 1em; padding-right: 1em; text-align: center; vertical-align: top\">0.6</td>\n",
       "        <td style=\"padding-left: 1em; padding-right: 1em; text-align: center; vertical-align: top\">1.0</td>\n",
       "        <td style=\"padding-left: 1em; padding-right: 1em; text-align: center; vertical-align: top\">0.0</td>\n",
       "        <td style=\"padding-left: 1em; padding-right: 1em; text-align: center; vertical-align: top\">3.0</td>\n",
       "        <td style=\"padding-left: 1em; padding-right: 1em; text-align: center; vertical-align: top\">0</td>\n",
       "    </tr>\n",
       "    <tr>\n",
       "        <td style=\"padding-left: 1em; padding-right: 1em; text-align: center; vertical-align: top\">63.0</td>\n",
       "        <td style=\"padding-left: 1em; padding-right: 1em; text-align: center; vertical-align: top\">1.0</td>\n",
       "        <td style=\"padding-left: 1em; padding-right: 1em; text-align: center; vertical-align: top\">4.0</td>\n",
       "        <td style=\"padding-left: 1em; padding-right: 1em; text-align: center; vertical-align: top\">130.0</td>\n",
       "        <td style=\"padding-left: 1em; padding-right: 1em; text-align: center; vertical-align: top\">254.0</td>\n",
       "        <td style=\"padding-left: 1em; padding-right: 1em; text-align: center; vertical-align: top\">0.0</td>\n",
       "        <td style=\"padding-left: 1em; padding-right: 1em; text-align: center; vertical-align: top\">2.0</td>\n",
       "        <td style=\"padding-left: 1em; padding-right: 1em; text-align: center; vertical-align: top\">147.0</td>\n",
       "        <td style=\"padding-left: 1em; padding-right: 1em; text-align: center; vertical-align: top\">0.0</td>\n",
       "        <td style=\"padding-left: 1em; padding-right: 1em; text-align: center; vertical-align: top\">1.4</td>\n",
       "        <td style=\"padding-left: 1em; padding-right: 1em; text-align: center; vertical-align: top\">2.0</td>\n",
       "        <td style=\"padding-left: 1em; padding-right: 1em; text-align: center; vertical-align: top\">1.0</td>\n",
       "        <td style=\"padding-left: 1em; padding-right: 1em; text-align: center; vertical-align: top\">7.0</td>\n",
       "        <td style=\"padding-left: 1em; padding-right: 1em; text-align: center; vertical-align: top\">2</td>\n",
       "    </tr>\n",
       "    <tr>\n",
       "        <td style=\"padding-left: 1em; padding-right: 1em; text-align: center; vertical-align: top\">53.0</td>\n",
       "        <td style=\"padding-left: 1em; padding-right: 1em; text-align: center; vertical-align: top\">1.0</td>\n",
       "        <td style=\"padding-left: 1em; padding-right: 1em; text-align: center; vertical-align: top\">4.0</td>\n",
       "        <td style=\"padding-left: 1em; padding-right: 1em; text-align: center; vertical-align: top\">140.0</td>\n",
       "        <td style=\"padding-left: 1em; padding-right: 1em; text-align: center; vertical-align: top\">203.0</td>\n",
       "        <td style=\"padding-left: 1em; padding-right: 1em; text-align: center; vertical-align: top\">1.0</td>\n",
       "        <td style=\"padding-left: 1em; padding-right: 1em; text-align: center; vertical-align: top\">2.0</td>\n",
       "        <td style=\"padding-left: 1em; padding-right: 1em; text-align: center; vertical-align: top\">155.0</td>\n",
       "        <td style=\"padding-left: 1em; padding-right: 1em; text-align: center; vertical-align: top\">1.0</td>\n",
       "        <td style=\"padding-left: 1em; padding-right: 1em; text-align: center; vertical-align: top\">3.1</td>\n",
       "        <td style=\"padding-left: 1em; padding-right: 1em; text-align: center; vertical-align: top\">3.0</td>\n",
       "        <td style=\"padding-left: 1em; padding-right: 1em; text-align: center; vertical-align: top\">0.0</td>\n",
       "        <td style=\"padding-left: 1em; padding-right: 1em; text-align: center; vertical-align: top\">7.0</td>\n",
       "        <td style=\"padding-left: 1em; padding-right: 1em; text-align: center; vertical-align: top\">1</td>\n",
       "    </tr>\n",
       "</table>\n",
       "[282 rows x 14 columns]<br/>Note: Only the head of the SFrame is printed.<br/>You can use print_rows(num_rows=m, num_columns=n) to print more rows and columns.\n",
       "</div>"
      ],
      "text/plain": [
       "Columns:\n",
       "\tage\tfloat\n",
       "\tsex\tfloat\n",
       "\tcp\tfloat\n",
       "\ttrestpbs\tfloat\n",
       "\tchol\tfloat\n",
       "\tfbs\tfloat\n",
       "\trestecg\tfloat\n",
       "\tthalach\tfloat\n",
       "\texang\tfloat\n",
       "\toldpeak\tfloat\n",
       "\tslope\tfloat\n",
       "\tca\tfloat\n",
       "\tthal\tstr\n",
       "\tnum\tint\n",
       "\n",
       "Rows: 282\n",
       "\n",
       "Data:\n",
       "+------+-----+-----+----------+-------+-----+---------+---------+-------+---------+\n",
       "| age  | sex |  cp | trestpbs |  chol | fbs | restecg | thalach | exang | oldpeak |\n",
       "+------+-----+-----+----------+-------+-----+---------+---------+-------+---------+\n",
       "| 63.0 | 1.0 | 1.0 |  145.0   | 233.0 | 1.0 |   2.0   |  150.0  |  0.0  |   2.3   |\n",
       "| 67.0 | 1.0 | 4.0 |  160.0   | 286.0 | 0.0 |   2.0   |  108.0  |  1.0  |   1.5   |\n",
       "| 67.0 | 1.0 | 4.0 |  120.0   | 229.0 | 0.0 |   2.0   |  129.0  |  1.0  |   2.6   |\n",
       "| 37.0 | 1.0 | 3.0 |  130.0   | 250.0 | 0.0 |   0.0   |  187.0  |  0.0  |   3.5   |\n",
       "| 41.0 | 0.0 | 2.0 |  130.0   | 204.0 | 0.0 |   2.0   |  172.0  |  0.0  |   1.4   |\n",
       "| 56.0 | 1.0 | 2.0 |  120.0   | 236.0 | 0.0 |   0.0   |  178.0  |  0.0  |   0.8   |\n",
       "| 62.0 | 0.0 | 4.0 |  140.0   | 268.0 | 0.0 |   2.0   |  160.0  |  0.0  |   3.6   |\n",
       "| 57.0 | 0.0 | 4.0 |  120.0   | 354.0 | 0.0 |   0.0   |  163.0  |  1.0  |   0.6   |\n",
       "| 63.0 | 1.0 | 4.0 |  130.0   | 254.0 | 0.0 |   2.0   |  147.0  |  0.0  |   1.4   |\n",
       "| 53.0 | 1.0 | 4.0 |  140.0   | 203.0 | 1.0 |   2.0   |  155.0  |  1.0  |   3.1   |\n",
       "+------+-----+-----+----------+-------+-----+---------+---------+-------+---------+\n",
       "+-------+-----+------+-----+\n",
       "| slope |  ca | thal | num |\n",
       "+-------+-----+------+-----+\n",
       "|  3.0  | 0.0 | 6.0  |  0  |\n",
       "|  2.0  | 3.0 | 3.0  |  2  |\n",
       "|  2.0  | 2.0 | 7.0  |  1  |\n",
       "|  3.0  | 0.0 | 3.0  |  0  |\n",
       "|  1.0  | 0.0 | 3.0  |  0  |\n",
       "|  1.0  | 0.0 | 3.0  |  0  |\n",
       "|  3.0  | 2.0 | 3.0  |  3  |\n",
       "|  1.0  | 0.0 | 3.0  |  0  |\n",
       "|  2.0  | 1.0 | 7.0  |  2  |\n",
       "|  3.0  | 0.0 | 7.0  |  1  |\n",
       "+-------+-----+------+-----+\n",
       "[282 rows x 14 columns]\n",
       "Note: Only the head of the SFrame is printed.\n",
       "You can use print_rows(num_rows=m, num_columns=n) to print more rows and columns."
      ]
     },
     "execution_count": 9,
     "metadata": {},
     "output_type": "execute_result"
    }
   ],
   "source": [
    "trainingData"
   ]
  },
  {
   "cell_type": "code",
   "execution_count": 13,
   "metadata": {
    "collapsed": false,
    "scrolled": true
   },
   "outputs": [
    {
     "name": "stdout",
     "output_type": "stream",
     "text": [
      "PROGRESS: Creating a validation set from 5 percent of training data. This may take a while.\n",
      "          You can set ``validation_set=None`` to disable validation tracking.\n",
      "\n"
     ]
    },
    {
     "data": {
      "text/html": [
       "<pre>Decision tree classifier:</pre>"
      ],
      "text/plain": [
       "Decision tree classifier:"
      ]
     },
     "metadata": {},
     "output_type": "display_data"
    },
    {
     "data": {
      "text/html": [
       "<pre>--------------------------------------------------------</pre>"
      ],
      "text/plain": [
       "--------------------------------------------------------"
      ]
     },
     "metadata": {},
     "output_type": "display_data"
    },
    {
     "data": {
      "text/html": [
       "<pre>Number of examples          : 269</pre>"
      ],
      "text/plain": [
       "Number of examples          : 269"
      ]
     },
     "metadata": {},
     "output_type": "display_data"
    },
    {
     "data": {
      "text/html": [
       "<pre>Number of classes           : 5</pre>"
      ],
      "text/plain": [
       "Number of classes           : 5"
      ]
     },
     "metadata": {},
     "output_type": "display_data"
    },
    {
     "data": {
      "text/html": [
       "<pre>Number of feature columns   : 13</pre>"
      ],
      "text/plain": [
       "Number of feature columns   : 13"
      ]
     },
     "metadata": {},
     "output_type": "display_data"
    },
    {
     "data": {
      "text/html": [
       "<pre>Number of unpacked features : 13</pre>"
      ],
      "text/plain": [
       "Number of unpacked features : 13"
      ]
     },
     "metadata": {},
     "output_type": "display_data"
    },
    {
     "data": {
      "text/html": [
       "<pre>+-----------+--------------+-------------------+---------------------+-------------------+---------------------+</pre>"
      ],
      "text/plain": [
       "+-----------+--------------+-------------------+---------------------+-------------------+---------------------+"
      ]
     },
     "metadata": {},
     "output_type": "display_data"
    },
    {
     "data": {
      "text/html": [
       "<pre>| Iteration | Elapsed Time | Training-accuracy | Validation-accuracy | Training-log_loss | Validation-log_loss |</pre>"
      ],
      "text/plain": [
       "| Iteration | Elapsed Time | Training-accuracy | Validation-accuracy | Training-log_loss | Validation-log_loss |"
      ]
     },
     "metadata": {},
     "output_type": "display_data"
    },
    {
     "data": {
      "text/html": [
       "<pre>+-----------+--------------+-------------------+---------------------+-------------------+---------------------+</pre>"
      ],
      "text/plain": [
       "+-----------+--------------+-------------------+---------------------+-------------------+---------------------+"
      ]
     },
     "metadata": {},
     "output_type": "display_data"
    },
    {
     "data": {
      "text/html": [
       "<pre>| 1         | 0.000000     | 0.702602          | 0.692308            | 1.292554          | 1.293217            |</pre>"
      ],
      "text/plain": [
       "| 1         | 0.000000     | 0.702602          | 0.692308            | 1.292554          | 1.293217            |"
      ]
     },
     "metadata": {},
     "output_type": "display_data"
    },
    {
     "data": {
      "text/html": [
       "<pre>+-----------+--------------+-------------------+---------------------+-------------------+---------------------+</pre>"
      ],
      "text/plain": [
       "+-----------+--------------+-------------------+---------------------+-------------------+---------------------+"
      ]
     },
     "metadata": {},
     "output_type": "display_data"
    },
    {
     "data": {
      "application/javascript": [
       "$(\"head\").append($(\"<link/>\").attr({\n",
       "  rel:  \"stylesheet\",\n",
       "  type: \"text/css\",\n",
       "  href: \"//cdnjs.cloudflare.com/ajax/libs/font-awesome/4.1.0/css/font-awesome.min.css\"\n",
       "}));\n",
       "$(\"head\").append($(\"<link/>\").attr({\n",
       "  rel:  \"stylesheet\",\n",
       "  type: \"text/css\",\n",
       "  href: \"https://static.turi.com/products/graphlab-create/2.1/canvas/css/canvas.css\"\n",
       "}));\n",
       "\n",
       "            (function(){\n",
       "\n",
       "                var e = null;\n",
       "                if (typeof element == 'undefined') {\n",
       "                    var scripts = document.getElementsByTagName('script');\n",
       "                    var thisScriptTag = scripts[scripts.length-1];\n",
       "                    var parentDiv = thisScriptTag.parentNode;\n",
       "                    e = document.createElement('div');\n",
       "                    parentDiv.appendChild(e);\n",
       "                } else {\n",
       "                    e = element[0];\n",
       "                }\n",
       "\n",
       "                if (typeof requirejs !== 'undefined') {\n",
       "                    // disable load timeout; ipython_app.js is large and can take a while to load.\n",
       "                    requirejs.config({waitSeconds: 0});\n",
       "                }\n",
       "\n",
       "                require(['https://static.turi.com/products/graphlab-create/2.1/canvas/js/ipython_app.js'], function(IPythonApp){\n",
       "                    var app = new IPythonApp();\n",
       "                    app.attachView('model','Summary', {\"comparison\": null, \"selected_variable\": {\"comparison\": null, \"name\": [\"model\"], \"view_file\": \"model\", \"view_component\": \"Summary\", \"view_params\": {\"model_type\": \"regression\", \"view\": \"Summary\"}, \"view_components\": [\"Summary\", \"Evaluation\", \"Comparison\"], \"model_type\": \"regression\", \"attributes\": {\"section_titles\": [\"Schema\", \"Settings\"], \"sections\": [[[\"Number of examples\", 269], [\"Number of feature columns\", 13], [\"Number of unpacked features\", 13], [\"Number of classes\", 5]], [[\"Number of trees\", 5], [\"Max tree depth\", 3], [\"Training time (sec)\", 0.0], [\"Training accuracy\", 0.7026], [\"Validation accuracy\", 0.6923], [\"Training log_loss\", 1.2926], [\"Validation log_loss\", 1.2932]]]}, \"evaluations\": [], \"type\": \"Model\"}, \"ipython\": true, \"view_params\": {\"model_type\": \"regression\", \"view\": \"Summary\"}, \"model_type\": \"regression\", \"attributes\": {\"section_titles\": [\"Schema\", \"Settings\"], \"sections\": [[[\"Number of examples\", 269], [\"Number of feature columns\", 13], [\"Number of unpacked features\", 13], [\"Number of classes\", 5]], [[\"Number of trees\", 5], [\"Max tree depth\", 3], [\"Training time (sec)\", 0.0], [\"Training accuracy\", 0.7026], [\"Validation accuracy\", 0.6923], [\"Training log_loss\", 1.2926], [\"Validation log_loss\", 1.2932]]]}, \"evaluations\": []}, e);\n",
       "                });\n",
       "            })();\n",
       "        "
      ]
     },
     "metadata": {},
     "output_type": "display_data"
    }
   ],
   "source": [
    "model = gl.decision_tree_classifier.create(trainingData, target='num',max_depth = 3)\n",
    "model.show()"
   ]
  },
  {
   "cell_type": "code",
   "execution_count": 11,
   "metadata": {
    "collapsed": false
   },
   "outputs": [
    {
     "name": "stderr",
     "output_type": "stream",
     "text": [
      "[ERROR] graphlab.toolkits._main: Toolkit error: Column 'ca' has type string; cannot be treated as numeric.\n"
     ]
    },
    {
     "ename": "ToolkitError",
     "evalue": "Column 'ca' has type string; cannot be treated as numeric.",
     "output_type": "error",
     "traceback": [
      "\u001b[1;31m---------------------------------------------------------------------------\u001b[0m",
      "\u001b[1;31mToolkitError\u001b[0m                              Traceback (most recent call last)",
      "\u001b[1;32m<ipython-input-11-fb95464d0a12>\u001b[0m in \u001b[0;36m<module>\u001b[1;34m()\u001b[0m\n\u001b[1;32m----> 1\u001b[1;33m \u001b[0mpredictions\u001b[0m \u001b[1;33m=\u001b[0m \u001b[0mmodel\u001b[0m\u001b[1;33m.\u001b[0m\u001b[0mpredict\u001b[0m\u001b[1;33m(\u001b[0m\u001b[0mtestingData\u001b[0m\u001b[1;33m)\u001b[0m\u001b[1;33m\u001b[0m\u001b[0m\n\u001b[0m",
      "\u001b[1;32mC:\\Anaconda2\\envs\\gl-env\\lib\\site-packages\\graphlab\\toolkits\\classifier\\decision_tree_classifier.pyc\u001b[0m in \u001b[0;36mpredict\u001b[1;34m(self, dataset, output_type, missing_value_action)\u001b[0m\n\u001b[0;32m    340\u001b[0m         return super(_Classifier, self).predict(dataset,\n\u001b[0;32m    341\u001b[0m                                                 \u001b[0moutput_type\u001b[0m\u001b[1;33m=\u001b[0m\u001b[0moutput_type\u001b[0m\u001b[1;33m,\u001b[0m\u001b[1;33m\u001b[0m\u001b[0m\n\u001b[1;32m--> 342\u001b[1;33m                                                 missing_value_action=missing_value_action)\n\u001b[0m\u001b[0;32m    343\u001b[0m \u001b[1;33m\u001b[0m\u001b[0m\n\u001b[0;32m    344\u001b[0m     \u001b[1;32mdef\u001b[0m \u001b[0mpredict_topk\u001b[0m\u001b[1;33m(\u001b[0m\u001b[0mself\u001b[0m\u001b[1;33m,\u001b[0m \u001b[0mdataset\u001b[0m\u001b[1;33m,\u001b[0m \u001b[0moutput_type\u001b[0m\u001b[1;33m=\u001b[0m\u001b[1;34m\"probability\"\u001b[0m\u001b[1;33m,\u001b[0m \u001b[0mk\u001b[0m\u001b[1;33m=\u001b[0m\u001b[1;36m3\u001b[0m\u001b[1;33m,\u001b[0m \u001b[0mmissing_value_action\u001b[0m\u001b[1;33m=\u001b[0m\u001b[1;34m'auto'\u001b[0m\u001b[1;33m)\u001b[0m\u001b[1;33m:\u001b[0m\u001b[1;33m\u001b[0m\u001b[0m\n",
      "\u001b[1;32mC:\\Anaconda2\\envs\\gl-env\\lib\\site-packages\\graphlab\\toolkits\\_supervised_learning.pyc\u001b[0m in \u001b[0;36mpredict\u001b[1;34m(self, dataset, missing_value_action, output_type, options, **kwargs)\u001b[0m\n\u001b[0;32m    135\u001b[0m \u001b[1;33m\u001b[0m\u001b[0m\n\u001b[0;32m    136\u001b[0m             target = _graphlab.toolkits._main.run(\n\u001b[1;32m--> 137\u001b[1;33m                       'supervised_learning_predict', options)\n\u001b[0m\u001b[0;32m    138\u001b[0m             \u001b[1;32mreturn\u001b[0m \u001b[0m_map_unity_proxy_to_object\u001b[0m\u001b[1;33m(\u001b[0m\u001b[0mtarget\u001b[0m\u001b[1;33m[\u001b[0m\u001b[1;34m'predicted'\u001b[0m\u001b[1;33m]\u001b[0m\u001b[1;33m)\u001b[0m\u001b[1;33m\u001b[0m\u001b[0m\n\u001b[0;32m    139\u001b[0m \u001b[1;33m\u001b[0m\u001b[0m\n",
      "\u001b[1;32mC:\\Anaconda2\\envs\\gl-env\\lib\\site-packages\\graphlab\\toolkits\\_main.pyc\u001b[0m in \u001b[0;36mrun\u001b[1;34m(toolkit_name, options, verbose, show_progress)\u001b[0m\n\u001b[0;32m     87\u001b[0m         \u001b[0m_get_metric_tracker\u001b[0m\u001b[1;33m(\u001b[0m\u001b[1;33m)\u001b[0m\u001b[1;33m.\u001b[0m\u001b[0mtrack\u001b[0m\u001b[1;33m(\u001b[0m\u001b[0mmetric_name\u001b[0m\u001b[1;33m,\u001b[0m \u001b[0mvalue\u001b[0m\u001b[1;33m=\u001b[0m\u001b[1;36m1\u001b[0m\u001b[1;33m,\u001b[0m \u001b[0mproperties\u001b[0m\u001b[1;33m=\u001b[0m\u001b[0mtrack_props\u001b[0m\u001b[1;33m,\u001b[0m \u001b[0msend_sys_info\u001b[0m\u001b[1;33m=\u001b[0m\u001b[0mFalse\u001b[0m\u001b[1;33m)\u001b[0m\u001b[1;33m\u001b[0m\u001b[0m\n\u001b[0;32m     88\u001b[0m \u001b[1;33m\u001b[0m\u001b[0m\n\u001b[1;32m---> 89\u001b[1;33m         \u001b[1;32mraise\u001b[0m \u001b[0mToolkitError\u001b[0m\u001b[1;33m(\u001b[0m\u001b[0mstr\u001b[0m\u001b[1;33m(\u001b[0m\u001b[0mmessage\u001b[0m\u001b[1;33m)\u001b[0m\u001b[1;33m)\u001b[0m\u001b[1;33m\u001b[0m\u001b[0m\n\u001b[0m",
      "\u001b[1;31mToolkitError\u001b[0m: Column 'ca' has type string; cannot be treated as numeric."
     ]
    }
   ],
   "source": [
    "predictions = model.predict(testingData)"
   ]
  },
  {
   "cell_type": "code",
   "execution_count": 42,
   "metadata": {
    "collapsed": false
   },
   "outputs": [],
   "source": [
    "results = model.evaluate(testingData)"
   ]
  },
  {
   "cell_type": "code",
   "execution_count": 45,
   "metadata": {
    "collapsed": false
   },
   "outputs": [
    {
     "data": {
      "text/plain": [
       "{'max_error': 2.316066026687622, 'rmse': 0.806812237162671}"
      ]
     },
     "execution_count": 45,
     "metadata": {},
     "output_type": "execute_result"
    }
   ],
   "source": [
    "results"
   ]
  },
  {
   "cell_type": "code",
   "execution_count": 43,
   "metadata": {
    "collapsed": false
   },
   "outputs": [],
   "source": [
    "final_predictions = model.predict(testingData)"
   ]
  },
  {
   "cell_type": "code",
   "execution_count": 44,
   "metadata": {
    "collapsed": false
   },
   "outputs": [
    {
     "data": {
      "text/plain": [
       "dtype: float\n",
       "Rows: 19\n",
       "[0.6730092763900757, 1.683933973312378, 1.8437440395355225, 0.21542498469352722, 0.2505292296409607, 0.10701894760131836, 0.885103166103363, 0.3609505295753479, 1.9053926467895508, 2.1378421783447266, 0.6131780743598938, 0.20919203758239746, 2.1561498641967773, 0.6557298898696899, 0.6711744070053101, 2.4913809299468994, 1.3834367990493774, 0.05776628851890564, 0.22752630710601807]"
      ]
     },
     "execution_count": 44,
     "metadata": {},
     "output_type": "execute_result"
    }
   ],
   "source": [
    "final_predictions"
   ]
  },
  {
   "cell_type": "code",
   "execution_count": 46,
   "metadata": {
    "collapsed": false
   },
   "outputs": [],
   "source": [
    "import matplotlib.pyplot as plot \n",
    "%matplotlib inline"
   ]
  },
  {
   "cell_type": "code",
   "execution_count": 47,
   "metadata": {
    "collapsed": false
   },
   "outputs": [
    {
     "data": {
      "text/plain": [
       "0.6730092763900757"
      ]
     },
     "execution_count": 47,
     "metadata": {},
     "output_type": "execute_result"
    }
   ],
   "source": [
    "final_predictions[0]"
   ]
  },
  {
   "cell_type": "code",
   "execution_count": null,
   "metadata": {
    "collapsed": true
   },
   "outputs": [],
   "source": []
  }
 ],
 "metadata": {
  "kernelspec": {
   "display_name": "Python 2",
   "language": "python",
   "name": "python2"
  },
  "language_info": {
   "codemirror_mode": {
    "name": "ipython",
    "version": 2
   },
   "file_extension": ".py",
   "mimetype": "text/x-python",
   "name": "python",
   "nbconvert_exporter": "python",
   "pygments_lexer": "ipython2",
   "version": "2.7.13"
  }
 },
 "nbformat": 4,
 "nbformat_minor": 0
}
